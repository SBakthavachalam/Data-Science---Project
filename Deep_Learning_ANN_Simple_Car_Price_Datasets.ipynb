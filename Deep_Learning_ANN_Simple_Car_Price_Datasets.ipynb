{
  "nbformat": 4,
  "nbformat_minor": 0,
  "metadata": {
    "colab": {
      "provenance": [],
      "authorship_tag": "ABX9TyPHvztRn643gEPcybZi31Lc",
      "include_colab_link": true
    },
    "kernelspec": {
      "name": "python3",
      "display_name": "Python 3"
    },
    "language_info": {
      "name": "python"
    }
  },
  "cells": [
    {
      "cell_type": "markdown",
      "metadata": {
        "id": "view-in-github",
        "colab_type": "text"
      },
      "source": [
        "<a href=\"https://colab.research.google.com/github/SBakthavachalam/Data-Science---Project/blob/main/Deep_Learning_ANN_Simple_Car_Price_Datasets.ipynb\" target=\"_parent\"><img src=\"https://colab.research.google.com/assets/colab-badge.svg\" alt=\"Open In Colab\"/></a>"
      ]
    },
    {
      "cell_type": "markdown",
      "source": [
        "# import data"
      ],
      "metadata": {
        "id": "19YsDcLefm2w"
      }
    },
    {
      "cell_type": "code",
      "execution_count": 1,
      "metadata": {
        "id": "pzxzaqnjmn4I",
        "colab": {
          "base_uri": "https://localhost:8080/"
        },
        "outputId": "58613bdb-5376-45e5-9bc8-f7b0c916a437"
      },
      "outputs": [
        {
          "output_type": "stream",
          "name": "stdout",
          "text": [
            "<class 'pandas.core.frame.DataFrame'>\n",
            "RangeIndex: 20 entries, 0 to 19\n",
            "Data columns (total 3 columns):\n",
            " #   Column         Non-Null Count  Dtype\n",
            "---  ------         --------------  -----\n",
            " 0   Mileage        20 non-null     int64\n",
            " 1   Age(yrs)       20 non-null     int64\n",
            " 2   Sell Price($)  20 non-null     int64\n",
            "dtypes: int64(3)\n",
            "memory usage: 608.0 bytes\n"
          ]
        }
      ],
      "source": [
        "import pandas as pd\n",
        "df = pd.read_csv('/content/carprices.csv')\n",
        "df.info()"
      ]
    },
    {
      "cell_type": "markdown",
      "source": [
        "# Retrieve data"
      ],
      "metadata": {
        "id": "YerbZYmjfr3K"
      }
    },
    {
      "cell_type": "code",
      "source": [
        "df.sample(5)"
      ],
      "metadata": {
        "colab": {
          "base_uri": "https://localhost:8080/",
          "height": 206
        },
        "id": "dBrO_VNsIO1A",
        "outputId": "a5bfc951-ee04-47d5-fcfe-57a59111bc3d"
      },
      "execution_count": 2,
      "outputs": [
        {
          "output_type": "execute_result",
          "data": {
            "text/plain": [
              "    Mileage  Age(yrs)  Sell Price($)\n",
              "0     69000         6          18000\n",
              "19    52000         5          28200\n",
              "12    59000         5          26000\n",
              "4     46000         4          31500\n",
              "5     59000         5          26750"
            ],
            "text/html": [
              "\n",
              "  <div id=\"df-a2f9418d-4f92-4587-b688-a2cc529a73c2\" class=\"colab-df-container\">\n",
              "    <div>\n",
              "<style scoped>\n",
              "    .dataframe tbody tr th:only-of-type {\n",
              "        vertical-align: middle;\n",
              "    }\n",
              "\n",
              "    .dataframe tbody tr th {\n",
              "        vertical-align: top;\n",
              "    }\n",
              "\n",
              "    .dataframe thead th {\n",
              "        text-align: right;\n",
              "    }\n",
              "</style>\n",
              "<table border=\"1\" class=\"dataframe\">\n",
              "  <thead>\n",
              "    <tr style=\"text-align: right;\">\n",
              "      <th></th>\n",
              "      <th>Mileage</th>\n",
              "      <th>Age(yrs)</th>\n",
              "      <th>Sell Price($)</th>\n",
              "    </tr>\n",
              "  </thead>\n",
              "  <tbody>\n",
              "    <tr>\n",
              "      <th>0</th>\n",
              "      <td>69000</td>\n",
              "      <td>6</td>\n",
              "      <td>18000</td>\n",
              "    </tr>\n",
              "    <tr>\n",
              "      <th>19</th>\n",
              "      <td>52000</td>\n",
              "      <td>5</td>\n",
              "      <td>28200</td>\n",
              "    </tr>\n",
              "    <tr>\n",
              "      <th>12</th>\n",
              "      <td>59000</td>\n",
              "      <td>5</td>\n",
              "      <td>26000</td>\n",
              "    </tr>\n",
              "    <tr>\n",
              "      <th>4</th>\n",
              "      <td>46000</td>\n",
              "      <td>4</td>\n",
              "      <td>31500</td>\n",
              "    </tr>\n",
              "    <tr>\n",
              "      <th>5</th>\n",
              "      <td>59000</td>\n",
              "      <td>5</td>\n",
              "      <td>26750</td>\n",
              "    </tr>\n",
              "  </tbody>\n",
              "</table>\n",
              "</div>\n",
              "    <div class=\"colab-df-buttons\">\n",
              "\n",
              "  <div class=\"colab-df-container\">\n",
              "    <button class=\"colab-df-convert\" onclick=\"convertToInteractive('df-a2f9418d-4f92-4587-b688-a2cc529a73c2')\"\n",
              "            title=\"Convert this dataframe to an interactive table.\"\n",
              "            style=\"display:none;\">\n",
              "\n",
              "  <svg xmlns=\"http://www.w3.org/2000/svg\" height=\"24px\" viewBox=\"0 -960 960 960\">\n",
              "    <path d=\"M120-120v-720h720v720H120Zm60-500h600v-160H180v160Zm220 220h160v-160H400v160Zm0 220h160v-160H400v160ZM180-400h160v-160H180v160Zm440 0h160v-160H620v160ZM180-180h160v-160H180v160Zm440 0h160v-160H620v160Z\"/>\n",
              "  </svg>\n",
              "    </button>\n",
              "\n",
              "  <style>\n",
              "    .colab-df-container {\n",
              "      display:flex;\n",
              "      gap: 12px;\n",
              "    }\n",
              "\n",
              "    .colab-df-convert {\n",
              "      background-color: #E8F0FE;\n",
              "      border: none;\n",
              "      border-radius: 50%;\n",
              "      cursor: pointer;\n",
              "      display: none;\n",
              "      fill: #1967D2;\n",
              "      height: 32px;\n",
              "      padding: 0 0 0 0;\n",
              "      width: 32px;\n",
              "    }\n",
              "\n",
              "    .colab-df-convert:hover {\n",
              "      background-color: #E2EBFA;\n",
              "      box-shadow: 0px 1px 2px rgba(60, 64, 67, 0.3), 0px 1px 3px 1px rgba(60, 64, 67, 0.15);\n",
              "      fill: #174EA6;\n",
              "    }\n",
              "\n",
              "    .colab-df-buttons div {\n",
              "      margin-bottom: 4px;\n",
              "    }\n",
              "\n",
              "    [theme=dark] .colab-df-convert {\n",
              "      background-color: #3B4455;\n",
              "      fill: #D2E3FC;\n",
              "    }\n",
              "\n",
              "    [theme=dark] .colab-df-convert:hover {\n",
              "      background-color: #434B5C;\n",
              "      box-shadow: 0px 1px 3px 1px rgba(0, 0, 0, 0.15);\n",
              "      filter: drop-shadow(0px 1px 2px rgba(0, 0, 0, 0.3));\n",
              "      fill: #FFFFFF;\n",
              "    }\n",
              "  </style>\n",
              "\n",
              "    <script>\n",
              "      const buttonEl =\n",
              "        document.querySelector('#df-a2f9418d-4f92-4587-b688-a2cc529a73c2 button.colab-df-convert');\n",
              "      buttonEl.style.display =\n",
              "        google.colab.kernel.accessAllowed ? 'block' : 'none';\n",
              "\n",
              "      async function convertToInteractive(key) {\n",
              "        const element = document.querySelector('#df-a2f9418d-4f92-4587-b688-a2cc529a73c2');\n",
              "        const dataTable =\n",
              "          await google.colab.kernel.invokeFunction('convertToInteractive',\n",
              "                                                    [key], {});\n",
              "        if (!dataTable) return;\n",
              "\n",
              "        const docLinkHtml = 'Like what you see? Visit the ' +\n",
              "          '<a target=\"_blank\" href=https://colab.research.google.com/notebooks/data_table.ipynb>data table notebook</a>'\n",
              "          + ' to learn more about interactive tables.';\n",
              "        element.innerHTML = '';\n",
              "        dataTable['output_type'] = 'display_data';\n",
              "        await google.colab.output.renderOutput(dataTable, element);\n",
              "        const docLink = document.createElement('div');\n",
              "        docLink.innerHTML = docLinkHtml;\n",
              "        element.appendChild(docLink);\n",
              "      }\n",
              "    </script>\n",
              "  </div>\n",
              "\n",
              "\n",
              "<div id=\"df-fc0ea2f7-027e-43d7-842f-20442cef346b\">\n",
              "  <button class=\"colab-df-quickchart\" onclick=\"quickchart('df-fc0ea2f7-027e-43d7-842f-20442cef346b')\"\n",
              "            title=\"Suggest charts\"\n",
              "            style=\"display:none;\">\n",
              "\n",
              "<svg xmlns=\"http://www.w3.org/2000/svg\" height=\"24px\"viewBox=\"0 0 24 24\"\n",
              "     width=\"24px\">\n",
              "    <g>\n",
              "        <path d=\"M19 3H5c-1.1 0-2 .9-2 2v14c0 1.1.9 2 2 2h14c1.1 0 2-.9 2-2V5c0-1.1-.9-2-2-2zM9 17H7v-7h2v7zm4 0h-2V7h2v10zm4 0h-2v-4h2v4z\"/>\n",
              "    </g>\n",
              "</svg>\n",
              "  </button>\n",
              "\n",
              "<style>\n",
              "  .colab-df-quickchart {\n",
              "      --bg-color: #E8F0FE;\n",
              "      --fill-color: #1967D2;\n",
              "      --hover-bg-color: #E2EBFA;\n",
              "      --hover-fill-color: #174EA6;\n",
              "      --disabled-fill-color: #AAA;\n",
              "      --disabled-bg-color: #DDD;\n",
              "  }\n",
              "\n",
              "  [theme=dark] .colab-df-quickchart {\n",
              "      --bg-color: #3B4455;\n",
              "      --fill-color: #D2E3FC;\n",
              "      --hover-bg-color: #434B5C;\n",
              "      --hover-fill-color: #FFFFFF;\n",
              "      --disabled-bg-color: #3B4455;\n",
              "      --disabled-fill-color: #666;\n",
              "  }\n",
              "\n",
              "  .colab-df-quickchart {\n",
              "    background-color: var(--bg-color);\n",
              "    border: none;\n",
              "    border-radius: 50%;\n",
              "    cursor: pointer;\n",
              "    display: none;\n",
              "    fill: var(--fill-color);\n",
              "    height: 32px;\n",
              "    padding: 0;\n",
              "    width: 32px;\n",
              "  }\n",
              "\n",
              "  .colab-df-quickchart:hover {\n",
              "    background-color: var(--hover-bg-color);\n",
              "    box-shadow: 0 1px 2px rgba(60, 64, 67, 0.3), 0 1px 3px 1px rgba(60, 64, 67, 0.15);\n",
              "    fill: var(--button-hover-fill-color);\n",
              "  }\n",
              "\n",
              "  .colab-df-quickchart-complete:disabled,\n",
              "  .colab-df-quickchart-complete:disabled:hover {\n",
              "    background-color: var(--disabled-bg-color);\n",
              "    fill: var(--disabled-fill-color);\n",
              "    box-shadow: none;\n",
              "  }\n",
              "\n",
              "  .colab-df-spinner {\n",
              "    border: 2px solid var(--fill-color);\n",
              "    border-color: transparent;\n",
              "    border-bottom-color: var(--fill-color);\n",
              "    animation:\n",
              "      spin 1s steps(1) infinite;\n",
              "  }\n",
              "\n",
              "  @keyframes spin {\n",
              "    0% {\n",
              "      border-color: transparent;\n",
              "      border-bottom-color: var(--fill-color);\n",
              "      border-left-color: var(--fill-color);\n",
              "    }\n",
              "    20% {\n",
              "      border-color: transparent;\n",
              "      border-left-color: var(--fill-color);\n",
              "      border-top-color: var(--fill-color);\n",
              "    }\n",
              "    30% {\n",
              "      border-color: transparent;\n",
              "      border-left-color: var(--fill-color);\n",
              "      border-top-color: var(--fill-color);\n",
              "      border-right-color: var(--fill-color);\n",
              "    }\n",
              "    40% {\n",
              "      border-color: transparent;\n",
              "      border-right-color: var(--fill-color);\n",
              "      border-top-color: var(--fill-color);\n",
              "    }\n",
              "    60% {\n",
              "      border-color: transparent;\n",
              "      border-right-color: var(--fill-color);\n",
              "    }\n",
              "    80% {\n",
              "      border-color: transparent;\n",
              "      border-right-color: var(--fill-color);\n",
              "      border-bottom-color: var(--fill-color);\n",
              "    }\n",
              "    90% {\n",
              "      border-color: transparent;\n",
              "      border-bottom-color: var(--fill-color);\n",
              "    }\n",
              "  }\n",
              "</style>\n",
              "\n",
              "  <script>\n",
              "    async function quickchart(key) {\n",
              "      const quickchartButtonEl =\n",
              "        document.querySelector('#' + key + ' button');\n",
              "      quickchartButtonEl.disabled = true;  // To prevent multiple clicks.\n",
              "      quickchartButtonEl.classList.add('colab-df-spinner');\n",
              "      try {\n",
              "        const charts = await google.colab.kernel.invokeFunction(\n",
              "            'suggestCharts', [key], {});\n",
              "      } catch (error) {\n",
              "        console.error('Error during call to suggestCharts:', error);\n",
              "      }\n",
              "      quickchartButtonEl.classList.remove('colab-df-spinner');\n",
              "      quickchartButtonEl.classList.add('colab-df-quickchart-complete');\n",
              "    }\n",
              "    (() => {\n",
              "      let quickchartButtonEl =\n",
              "        document.querySelector('#df-fc0ea2f7-027e-43d7-842f-20442cef346b button');\n",
              "      quickchartButtonEl.style.display =\n",
              "        google.colab.kernel.accessAllowed ? 'block' : 'none';\n",
              "    })();\n",
              "  </script>\n",
              "</div>\n",
              "\n",
              "    </div>\n",
              "  </div>\n"
            ],
            "application/vnd.google.colaboratory.intrinsic+json": {
              "type": "dataframe",
              "summary": "{\n  \"name\": \"df\",\n  \"rows\": 5,\n  \"fields\": [\n    {\n      \"column\": \"Mileage\",\n      \"properties\": {\n        \"dtype\": \"number\",\n        \"std\": 8631,\n        \"min\": 46000,\n        \"max\": 69000,\n        \"num_unique_values\": 4,\n        \"samples\": [\n          52000,\n          46000,\n          69000\n        ],\n        \"semantic_type\": \"\",\n        \"description\": \"\"\n      }\n    },\n    {\n      \"column\": \"Age(yrs)\",\n      \"properties\": {\n        \"dtype\": \"number\",\n        \"std\": 0,\n        \"min\": 4,\n        \"max\": 6,\n        \"num_unique_values\": 3,\n        \"samples\": [\n          6,\n          5,\n          4\n        ],\n        \"semantic_type\": \"\",\n        \"description\": \"\"\n      }\n    },\n    {\n      \"column\": \"Sell Price($)\",\n      \"properties\": {\n        \"dtype\": \"number\",\n        \"std\": 4990,\n        \"min\": 18000,\n        \"max\": 31500,\n        \"num_unique_values\": 5,\n        \"samples\": [\n          28200,\n          26750,\n          26000\n        ],\n        \"semantic_type\": \"\",\n        \"description\": \"\"\n      }\n    }\n  ]\n}"
            }
          },
          "metadata": {},
          "execution_count": 2
        }
      ]
    },
    {
      "cell_type": "markdown",
      "source": [
        "# is null?"
      ],
      "metadata": {
        "id": "wzO2YLEvfzZp"
      }
    },
    {
      "cell_type": "code",
      "source": [
        "df.isnull().sum()"
      ],
      "metadata": {
        "colab": {
          "base_uri": "https://localhost:8080/"
        },
        "id": "fZhh0cNGdyG6",
        "outputId": "1c084803-1784-453e-a727-460989146c40"
      },
      "execution_count": 3,
      "outputs": [
        {
          "output_type": "execute_result",
          "data": {
            "text/plain": [
              "Mileage          0\n",
              "Age(yrs)         0\n",
              "Sell Price($)    0\n",
              "dtype: int64"
            ]
          },
          "metadata": {},
          "execution_count": 3
        }
      ]
    },
    {
      "cell_type": "markdown",
      "source": [
        "# see the columns name"
      ],
      "metadata": {
        "id": "3-BWQ6hPf56P"
      }
    },
    {
      "cell_type": "code",
      "source": [
        "df.columns"
      ],
      "metadata": {
        "colab": {
          "base_uri": "https://localhost:8080/"
        },
        "id": "1Jz1IJIEIZmu",
        "outputId": "a03a88c7-d9cc-41b1-a7e1-6540ad03109c"
      },
      "execution_count": 4,
      "outputs": [
        {
          "output_type": "execute_result",
          "data": {
            "text/plain": [
              "Index(['Mileage', 'Age(yrs)', 'Sell Price($)'], dtype='object')"
            ]
          },
          "metadata": {},
          "execution_count": 4
        }
      ]
    },
    {
      "cell_type": "markdown",
      "source": [
        "# define feature and target"
      ],
      "metadata": {
        "id": "at58vs0Jf9UL"
      }
    },
    {
      "cell_type": "code",
      "source": [
        "X = df[['Mileage', 'Age(yrs)']]\n",
        "y = df[['Sell Price($)']]"
      ],
      "metadata": {
        "id": "d8EXyHrRIezH"
      },
      "execution_count": 5,
      "outputs": []
    },
    {
      "cell_type": "markdown",
      "source": [
        "# Feature engineering - Preprocess feature and target"
      ],
      "metadata": {
        "id": "mIDWFStVgB1R"
      }
    },
    {
      "cell_type": "code",
      "source": [
        "from sklearn.preprocessing import StandardScaler\n",
        "\n",
        "# feature\n",
        "StdScaller = StandardScaler().set_output(transform='pandas')\n",
        "StdScaller.fit(X)\n",
        "X = StdScaller.transform(X)\n",
        "\n",
        "# target\n",
        "StdScaller1 = StandardScaler().set_output(transform='pandas')\n",
        "StdScaller1.fit(y)\n",
        "y = StdScaller1.transform(y)"
      ],
      "metadata": {
        "id": "nzyB-nirIpLb"
      },
      "execution_count": 6,
      "outputs": []
    },
    {
      "cell_type": "markdown",
      "source": [
        "# split train and test data"
      ],
      "metadata": {
        "id": "pqerUR5wgGMn"
      }
    },
    {
      "cell_type": "code",
      "source": [
        "from sklearn.model_selection import train_test_split\n",
        "X_train, X_test, y_train, y_test = train_test_split(X, y, test_size= 0.2, random_state=42)"
      ],
      "metadata": {
        "id": "1oUqQ1-_MD9K"
      },
      "execution_count": 7,
      "outputs": []
    },
    {
      "cell_type": "markdown",
      "source": [
        "# import packages - Sequential and Dense"
      ],
      "metadata": {
        "id": "Jq9tnLNZgLAc"
      }
    },
    {
      "cell_type": "code",
      "source": [
        "from tensorflow.keras.models import Sequential\n",
        "from tensorflow.keras.layers import Dense\n",
        "from tensorflow.keras.optimizers import Adam"
      ],
      "metadata": {
        "id": "f6k4JNX2MX3C"
      },
      "execution_count": 8,
      "outputs": []
    },
    {
      "cell_type": "markdown",
      "source": [
        "# Call the Model"
      ],
      "metadata": {
        "id": "xM6vDTtygO6M"
      }
    },
    {
      "cell_type": "code",
      "source": [
        "model = Sequential()"
      ],
      "metadata": {
        "id": "OoWvGURJMxVa"
      },
      "execution_count": 9,
      "outputs": []
    },
    {
      "cell_type": "code",
      "source": [
        "X_train.shape[1]"
      ],
      "metadata": {
        "colab": {
          "base_uri": "https://localhost:8080/"
        },
        "id": "aTjqJdooN7hu",
        "outputId": "54c1313b-2738-4f29-fdef-2ad0a6234e7d"
      },
      "execution_count": 10,
      "outputs": [
        {
          "output_type": "execute_result",
          "data": {
            "text/plain": [
              "2"
            ]
          },
          "metadata": {},
          "execution_count": 10
        }
      ]
    },
    {
      "cell_type": "markdown",
      "source": [
        "# Define Hidden Layers and target"
      ],
      "metadata": {
        "id": "ApnoVd_PgTdz"
      }
    },
    {
      "cell_type": "code",
      "source": [
        "model.add(Dense(128, activation='relu', input_dim=X_train.shape[1]))\n",
        "# 128 1st hidden layer\n",
        "model.add(Dense(64, activation='relu'))\n",
        "# 64 2nd hidden layer\n",
        "model.add(Dense(32, activation='relu'))\n",
        "# 32 3rd hidden layer\n",
        "model.add(Dense(1, activation='linear'))\n",
        "# 1 target\n",
        "# Sigmoid for classification problem"
      ],
      "metadata": {
        "id": "lDO931GNNHmx"
      },
      "execution_count": 11,
      "outputs": []
    },
    {
      "cell_type": "markdown",
      "source": [
        "# get the no of parameter - ChatGPT4 1.75T"
      ],
      "metadata": {
        "id": "lvxEF9c0gW3U"
      }
    },
    {
      "cell_type": "code",
      "source": [
        "model.summary()"
      ],
      "metadata": {
        "colab": {
          "base_uri": "https://localhost:8080/"
        },
        "id": "UgDutYtxNytW",
        "outputId": "fccca430-4020-4489-d855-5944fc82f4cd"
      },
      "execution_count": 12,
      "outputs": [
        {
          "output_type": "stream",
          "name": "stdout",
          "text": [
            "Model: \"sequential\"\n",
            "_________________________________________________________________\n",
            " Layer (type)                Output Shape              Param #   \n",
            "=================================================================\n",
            " dense (Dense)               (None, 128)               384       \n",
            "                                                                 \n",
            " dense_1 (Dense)             (None, 64)                8256      \n",
            "                                                                 \n",
            " dense_2 (Dense)             (None, 32)                2080      \n",
            "                                                                 \n",
            " dense_3 (Dense)             (None, 1)                 33        \n",
            "                                                                 \n",
            "=================================================================\n",
            "Total params: 10753 (42.00 KB)\n",
            "Trainable params: 10753 (42.00 KB)\n",
            "Non-trainable params: 0 (0.00 Byte)\n",
            "_________________________________________________________________\n"
          ]
        }
      ]
    },
    {
      "cell_type": "markdown",
      "source": [
        "# Use complie to reduce data leakage by giving metrics and loss"
      ],
      "metadata": {
        "id": "HOid5BLjgaRY"
      }
    },
    {
      "cell_type": "code",
      "source": [
        "model.compile(loss='mean_squared_error', optimizer=Adam(learning_rate=0.01), metrics=['mae'])"
      ],
      "metadata": {
        "id": "_vAn4RkFN1ru"
      },
      "execution_count": 13,
      "outputs": []
    },
    {
      "cell_type": "markdown",
      "source": [
        "# fit the model with epochs in trail and error method.\n",
        "# batch size 10 - 10 sample per batch\n",
        "# validation_split = 20% of data"
      ],
      "metadata": {
        "id": "6AwFDE_lgffc"
      }
    },
    {
      "cell_type": "code",
      "source": [
        "model.fit(X_train, y_train, epochs=50, batch_size=10, validation_split=0.20)"
      ],
      "metadata": {
        "colab": {
          "base_uri": "https://localhost:8080/"
        },
        "id": "lqPTuEQxQDdi",
        "outputId": "6187a93d-347e-4190-f773-dcf087f5c05f"
      },
      "execution_count": 14,
      "outputs": [
        {
          "output_type": "stream",
          "name": "stdout",
          "text": [
            "Epoch 1/50\n",
            "2/2 [==============================] - 2s 367ms/step - loss: 1.1468 - mae: 0.8222 - val_loss: 0.2381 - val_mae: 0.4736\n",
            "Epoch 2/50\n",
            "2/2 [==============================] - 0s 59ms/step - loss: 0.1655 - mae: 0.2724 - val_loss: 0.0844 - val_mae: 0.2786\n",
            "Epoch 3/50\n",
            "2/2 [==============================] - 0s 78ms/step - loss: 0.2656 - mae: 0.3445 - val_loss: 0.9002 - val_mae: 0.8841\n",
            "Epoch 4/50\n",
            "2/2 [==============================] - 0s 96ms/step - loss: 0.3748 - mae: 0.4635 - val_loss: 0.6206 - val_mae: 0.7300\n",
            "Epoch 5/50\n",
            "2/2 [==============================] - 0s 115ms/step - loss: 0.3700 - mae: 0.5116 - val_loss: 0.2285 - val_mae: 0.4177\n",
            "Epoch 6/50\n",
            "2/2 [==============================] - 0s 65ms/step - loss: 0.1464 - mae: 0.2565 - val_loss: 0.1228 - val_mae: 0.2587\n",
            "Epoch 7/50\n",
            "2/2 [==============================] - 0s 114ms/step - loss: 0.0998 - mae: 0.2229 - val_loss: 0.1059 - val_mae: 0.2773\n",
            "Epoch 8/50\n",
            "2/2 [==============================] - 0s 72ms/step - loss: 0.1055 - mae: 0.2399 - val_loss: 0.0781 - val_mae: 0.2196\n",
            "Epoch 9/50\n",
            "2/2 [==============================] - 0s 56ms/step - loss: 0.1259 - mae: 0.2926 - val_loss: 0.0699 - val_mae: 0.2171\n",
            "Epoch 10/50\n",
            "2/2 [==============================] - 0s 65ms/step - loss: 0.0821 - mae: 0.2377 - val_loss: 0.0995 - val_mae: 0.2971\n",
            "Epoch 11/50\n",
            "2/2 [==============================] - 0s 77ms/step - loss: 0.0303 - mae: 0.1521 - val_loss: 0.1625 - val_mae: 0.3785\n",
            "Epoch 12/50\n",
            "2/2 [==============================] - 0s 105ms/step - loss: 0.0370 - mae: 0.1267 - val_loss: 0.2203 - val_mae: 0.4312\n",
            "Epoch 13/50\n",
            "2/2 [==============================] - 0s 111ms/step - loss: 0.0707 - mae: 0.1945 - val_loss: 0.2288 - val_mae: 0.4389\n",
            "Epoch 14/50\n",
            "2/2 [==============================] - 0s 207ms/step - loss: 0.0723 - mae: 0.1959 - val_loss: 0.1840 - val_mae: 0.3996\n",
            "Epoch 15/50\n",
            "2/2 [==============================] - 0s 155ms/step - loss: 0.0444 - mae: 0.1449 - val_loss: 0.1385 - val_mae: 0.3446\n",
            "Epoch 16/50\n",
            "2/2 [==============================] - 0s 106ms/step - loss: 0.0211 - mae: 0.1204 - val_loss: 0.1123 - val_mae: 0.2978\n",
            "Epoch 17/50\n",
            "2/2 [==============================] - 0s 127ms/step - loss: 0.0338 - mae: 0.1451 - val_loss: 0.1110 - val_mae: 0.2766\n",
            "Epoch 18/50\n",
            "2/2 [==============================] - 0s 125ms/step - loss: 0.0342 - mae: 0.1454 - val_loss: 0.1264 - val_mae: 0.3032\n",
            "Epoch 19/50\n",
            "2/2 [==============================] - 0s 154ms/step - loss: 0.0268 - mae: 0.1335 - val_loss: 0.1538 - val_mae: 0.3616\n",
            "Epoch 20/50\n",
            "2/2 [==============================] - 0s 140ms/step - loss: 0.0344 - mae: 0.1207 - val_loss: 0.1832 - val_mae: 0.4016\n",
            "Epoch 21/50\n",
            "2/2 [==============================] - 0s 140ms/step - loss: 0.0385 - mae: 0.1321 - val_loss: 0.1756 - val_mae: 0.3959\n",
            "Epoch 22/50\n",
            "2/2 [==============================] - 0s 129ms/step - loss: 0.0257 - mae: 0.1119 - val_loss: 0.1393 - val_mae: 0.3554\n",
            "Epoch 23/50\n",
            "2/2 [==============================] - 0s 136ms/step - loss: 0.0155 - mae: 0.0983 - val_loss: 0.1000 - val_mae: 0.2890\n",
            "Epoch 24/50\n",
            "2/2 [==============================] - 0s 165ms/step - loss: 0.0520 - mae: 0.1725 - val_loss: 0.0929 - val_mae: 0.2618\n",
            "Epoch 25/50\n",
            "2/2 [==============================] - 0s 153ms/step - loss: 0.0713 - mae: 0.2025 - val_loss: 0.1073 - val_mae: 0.2965\n",
            "Epoch 26/50\n",
            "2/2 [==============================] - 0s 155ms/step - loss: 0.0386 - mae: 0.1381 - val_loss: 0.1438 - val_mae: 0.3598\n",
            "Epoch 27/50\n",
            "2/2 [==============================] - 0s 116ms/step - loss: 0.0169 - mae: 0.0951 - val_loss: 0.1890 - val_mae: 0.4129\n",
            "Epoch 28/50\n",
            "2/2 [==============================] - 0s 197ms/step - loss: 0.0295 - mae: 0.1303 - val_loss: 0.2089 - val_mae: 0.4327\n",
            "Epoch 29/50\n",
            "2/2 [==============================] - 0s 266ms/step - loss: 0.0424 - mae: 0.1488 - val_loss: 0.1840 - val_mae: 0.4047\n",
            "Epoch 30/50\n",
            "2/2 [==============================] - 0s 233ms/step - loss: 0.0329 - mae: 0.1237 - val_loss: 0.1454 - val_mae: 0.3455\n",
            "Epoch 31/50\n",
            "2/2 [==============================] - 0s 164ms/step - loss: 0.0225 - mae: 0.1231 - val_loss: 0.1276 - val_mae: 0.3032\n",
            "Epoch 32/50\n",
            "2/2 [==============================] - 0s 209ms/step - loss: 0.0227 - mae: 0.1276 - val_loss: 0.1211 - val_mae: 0.2854\n",
            "Epoch 33/50\n",
            "2/2 [==============================] - 0s 150ms/step - loss: 0.0262 - mae: 0.1327 - val_loss: 0.1118 - val_mae: 0.2839\n",
            "Epoch 34/50\n",
            "2/2 [==============================] - 0s 175ms/step - loss: 0.0315 - mae: 0.1351 - val_loss: 0.1118 - val_mae: 0.3036\n",
            "Epoch 35/50\n",
            "2/2 [==============================] - 0s 173ms/step - loss: 0.0228 - mae: 0.1245 - val_loss: 0.1274 - val_mae: 0.3391\n",
            "Epoch 36/50\n",
            "2/2 [==============================] - 0s 91ms/step - loss: 0.0150 - mae: 0.0985 - val_loss: 0.1423 - val_mae: 0.3654\n",
            "Epoch 37/50\n",
            "2/2 [==============================] - 0s 170ms/step - loss: 0.0172 - mae: 0.0973 - val_loss: 0.1513 - val_mae: 0.3775\n",
            "Epoch 38/50\n",
            "2/2 [==============================] - 0s 84ms/step - loss: 0.0199 - mae: 0.1075 - val_loss: 0.1402 - val_mae: 0.3582\n",
            "Epoch 39/50\n",
            "2/2 [==============================] - 0s 92ms/step - loss: 0.0168 - mae: 0.0962 - val_loss: 0.1269 - val_mae: 0.3166\n",
            "Epoch 40/50\n",
            "2/2 [==============================] - 0s 77ms/step - loss: 0.0212 - mae: 0.1202 - val_loss: 0.1243 - val_mae: 0.2919\n",
            "Epoch 41/50\n",
            "2/2 [==============================] - 0s 67ms/step - loss: 0.0263 - mae: 0.1316 - val_loss: 0.1211 - val_mae: 0.2833\n",
            "Epoch 42/50\n",
            "2/2 [==============================] - 0s 113ms/step - loss: 0.0239 - mae: 0.1277 - val_loss: 0.1132 - val_mae: 0.2855\n",
            "Epoch 43/50\n",
            "2/2 [==============================] - 0s 102ms/step - loss: 0.0203 - mae: 0.1104 - val_loss: 0.1099 - val_mae: 0.3110\n",
            "Epoch 44/50\n",
            "2/2 [==============================] - 0s 75ms/step - loss: 0.0320 - mae: 0.1264 - val_loss: 0.1280 - val_mae: 0.3503\n",
            "Epoch 45/50\n",
            "2/2 [==============================] - 0s 72ms/step - loss: 0.0328 - mae: 0.1172 - val_loss: 0.1388 - val_mae: 0.3619\n",
            "Epoch 46/50\n",
            "2/2 [==============================] - 0s 102ms/step - loss: 0.0169 - mae: 0.0901 - val_loss: 0.1486 - val_mae: 0.3650\n",
            "Epoch 47/50\n",
            "2/2 [==============================] - 0s 99ms/step - loss: 0.0154 - mae: 0.0966 - val_loss: 0.1585 - val_mae: 0.3645\n",
            "Epoch 48/50\n",
            "2/2 [==============================] - 0s 118ms/step - loss: 0.0355 - mae: 0.1373 - val_loss: 0.1608 - val_mae: 0.3637\n",
            "Epoch 49/50\n",
            "2/2 [==============================] - 0s 106ms/step - loss: 0.0430 - mae: 0.1484 - val_loss: 0.1557 - val_mae: 0.3656\n",
            "Epoch 50/50\n",
            "2/2 [==============================] - 0s 43ms/step - loss: 0.0286 - mae: 0.1212 - val_loss: 0.1431 - val_mae: 0.3583\n"
          ]
        },
        {
          "output_type": "execute_result",
          "data": {
            "text/plain": [
              "<keras.src.callbacks.History at 0x785d2c0fcaf0>"
            ]
          },
          "metadata": {},
          "execution_count": 14
        }
      ]
    },
    {
      "cell_type": "markdown",
      "source": [
        "# Predict"
      ],
      "metadata": {
        "id": "H5sGBv89hnF9"
      }
    },
    {
      "cell_type": "code",
      "source": [
        "y_pred = model.predict(X_test)"
      ],
      "metadata": {
        "colab": {
          "base_uri": "https://localhost:8080/"
        },
        "id": "JJrxb2_GSiPQ",
        "outputId": "289934ba-e6c4-40c3-ce4a-569a77b6ce6b"
      },
      "execution_count": 15,
      "outputs": [
        {
          "output_type": "stream",
          "name": "stdout",
          "text": [
            "1/1 [==============================] - 0s 92ms/step\n"
          ]
        }
      ]
    },
    {
      "cell_type": "markdown",
      "source": [
        "# Get the metrics"
      ],
      "metadata": {
        "id": "9wTLwKIghvNK"
      }
    },
    {
      "cell_type": "code",
      "source": [
        "from sklearn.metrics import mean_squared_error, r2_score, mean_absolute_error\n",
        "meanerror = mean_squared_error(y_test, y_pred)\n",
        "print(meanerror)\n",
        "meanabs = mean_absolute_error(y_test, y_pred)\n",
        "print(meanabs)"
      ],
      "metadata": {
        "colab": {
          "base_uri": "https://localhost:8080/"
        },
        "id": "fjWA-CScTQwX",
        "outputId": "e1137ec2-030c-473c-b0da-aa5377abd7e5"
      },
      "execution_count": 16,
      "outputs": [
        {
          "output_type": "stream",
          "name": "stdout",
          "text": [
            "0.20828636281594187\n",
            "0.3683643216785294\n"
          ]
        }
      ]
    }
  ]
}
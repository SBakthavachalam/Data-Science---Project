{
  "nbformat": 4,
  "nbformat_minor": 0,
  "metadata": {
    "colab": {
      "provenance": [],
      "authorship_tag": "ABX9TyMx1uTWvoqvb1IbLYjFKOOB",
      "include_colab_link": true
    },
    "kernelspec": {
      "name": "python3",
      "display_name": "Python 3"
    },
    "language_info": {
      "name": "python"
    }
  },
  "cells": [
    {
      "cell_type": "markdown",
      "metadata": {
        "id": "view-in-github",
        "colab_type": "text"
      },
      "source": [
        "<a href=\"https://colab.research.google.com/github/SBakthavachalam/Data-Science---Project/blob/main/Deep_Learning_ClassificationProblem_Pima_DataSets.ipynb\" target=\"_parent\"><img src=\"https://colab.research.google.com/assets/colab-badge.svg\" alt=\"Open In Colab\"/></a>"
      ]
    },
    {
      "cell_type": "markdown",
      "source": [
        "# import data"
      ],
      "metadata": {
        "id": "19YsDcLefm2w"
      }
    },
    {
      "cell_type": "code",
      "execution_count": null,
      "metadata": {
        "id": "pzxzaqnjmn4I",
        "colab": {
          "base_uri": "https://localhost:8080/"
        },
        "outputId": "1131fd63-c7a4-45b7-c8b4-9a36bd7824a5"
      },
      "outputs": [
        {
          "output_type": "stream",
          "name": "stdout",
          "text": [
            "<class 'pandas.core.frame.DataFrame'>\n",
            "RangeIndex: 768 entries, 0 to 767\n",
            "Data columns (total 9 columns):\n",
            " #   Column                       Non-Null Count  Dtype  \n",
            "---  ------                       --------------  -----  \n",
            " 0   preg_count                   768 non-null    int64  \n",
            " 1   glucose_concentration        768 non-null    int64  \n",
            " 2   diastolic_bp                 768 non-null    int64  \n",
            " 3   triceps_skin_fold_thickness  768 non-null    int64  \n",
            " 4   two_hr_serum_insulin         768 non-null    int64  \n",
            " 5   bmi                          768 non-null    float64\n",
            " 6   diabetes_pedi                768 non-null    float64\n",
            " 7   age                          768 non-null    int64  \n",
            " 8   diabetes_class               768 non-null    int64  \n",
            "dtypes: float64(2), int64(7)\n",
            "memory usage: 54.1 KB\n"
          ]
        }
      ],
      "source": [
        "import pandas as pd\n",
        "df = pd.read_csv('/content/Pima .csv')\n",
        "df.info()"
      ]
    },
    {
      "cell_type": "markdown",
      "source": [
        "# Retrieve data"
      ],
      "metadata": {
        "id": "YerbZYmjfr3K"
      }
    },
    {
      "cell_type": "code",
      "source": [
        "df.sample(5)"
      ],
      "metadata": {
        "colab": {
          "base_uri": "https://localhost:8080/",
          "height": 206
        },
        "id": "dBrO_VNsIO1A",
        "outputId": "c4e49b51-028d-4471-c4a2-6f6e88e6c5e4"
      },
      "execution_count": null,
      "outputs": [
        {
          "output_type": "execute_result",
          "data": {
            "text/plain": [
              "     preg_count  glucose_concentration  diastolic_bp  \\\n",
              "615           3                    106            72   \n",
              "687           1                    107            50   \n",
              "730           3                    130            78   \n",
              "691          13                    158           114   \n",
              "96            2                     92            62   \n",
              "\n",
              "     triceps_skin_fold_thickness  two_hr_serum_insulin   bmi  diabetes_pedi  \\\n",
              "615                            0                     0  25.8          0.207   \n",
              "687                           19                     0  28.3          0.181   \n",
              "730                           23                    79  28.4          0.323   \n",
              "691                            0                     0  42.3          0.257   \n",
              "96                            28                     0  31.6          0.130   \n",
              "\n",
              "     age  diabetes_class  \n",
              "615   27               0  \n",
              "687   29               0  \n",
              "730   34               1  \n",
              "691   44               1  \n",
              "96    24               0  "
            ],
            "text/html": [
              "\n",
              "  <div id=\"df-3314392d-2b61-4621-a535-885d7a286636\" class=\"colab-df-container\">\n",
              "    <div>\n",
              "<style scoped>\n",
              "    .dataframe tbody tr th:only-of-type {\n",
              "        vertical-align: middle;\n",
              "    }\n",
              "\n",
              "    .dataframe tbody tr th {\n",
              "        vertical-align: top;\n",
              "    }\n",
              "\n",
              "    .dataframe thead th {\n",
              "        text-align: right;\n",
              "    }\n",
              "</style>\n",
              "<table border=\"1\" class=\"dataframe\">\n",
              "  <thead>\n",
              "    <tr style=\"text-align: right;\">\n",
              "      <th></th>\n",
              "      <th>preg_count</th>\n",
              "      <th>glucose_concentration</th>\n",
              "      <th>diastolic_bp</th>\n",
              "      <th>triceps_skin_fold_thickness</th>\n",
              "      <th>two_hr_serum_insulin</th>\n",
              "      <th>bmi</th>\n",
              "      <th>diabetes_pedi</th>\n",
              "      <th>age</th>\n",
              "      <th>diabetes_class</th>\n",
              "    </tr>\n",
              "  </thead>\n",
              "  <tbody>\n",
              "    <tr>\n",
              "      <th>615</th>\n",
              "      <td>3</td>\n",
              "      <td>106</td>\n",
              "      <td>72</td>\n",
              "      <td>0</td>\n",
              "      <td>0</td>\n",
              "      <td>25.8</td>\n",
              "      <td>0.207</td>\n",
              "      <td>27</td>\n",
              "      <td>0</td>\n",
              "    </tr>\n",
              "    <tr>\n",
              "      <th>687</th>\n",
              "      <td>1</td>\n",
              "      <td>107</td>\n",
              "      <td>50</td>\n",
              "      <td>19</td>\n",
              "      <td>0</td>\n",
              "      <td>28.3</td>\n",
              "      <td>0.181</td>\n",
              "      <td>29</td>\n",
              "      <td>0</td>\n",
              "    </tr>\n",
              "    <tr>\n",
              "      <th>730</th>\n",
              "      <td>3</td>\n",
              "      <td>130</td>\n",
              "      <td>78</td>\n",
              "      <td>23</td>\n",
              "      <td>79</td>\n",
              "      <td>28.4</td>\n",
              "      <td>0.323</td>\n",
              "      <td>34</td>\n",
              "      <td>1</td>\n",
              "    </tr>\n",
              "    <tr>\n",
              "      <th>691</th>\n",
              "      <td>13</td>\n",
              "      <td>158</td>\n",
              "      <td>114</td>\n",
              "      <td>0</td>\n",
              "      <td>0</td>\n",
              "      <td>42.3</td>\n",
              "      <td>0.257</td>\n",
              "      <td>44</td>\n",
              "      <td>1</td>\n",
              "    </tr>\n",
              "    <tr>\n",
              "      <th>96</th>\n",
              "      <td>2</td>\n",
              "      <td>92</td>\n",
              "      <td>62</td>\n",
              "      <td>28</td>\n",
              "      <td>0</td>\n",
              "      <td>31.6</td>\n",
              "      <td>0.130</td>\n",
              "      <td>24</td>\n",
              "      <td>0</td>\n",
              "    </tr>\n",
              "  </tbody>\n",
              "</table>\n",
              "</div>\n",
              "    <div class=\"colab-df-buttons\">\n",
              "\n",
              "  <div class=\"colab-df-container\">\n",
              "    <button class=\"colab-df-convert\" onclick=\"convertToInteractive('df-3314392d-2b61-4621-a535-885d7a286636')\"\n",
              "            title=\"Convert this dataframe to an interactive table.\"\n",
              "            style=\"display:none;\">\n",
              "\n",
              "  <svg xmlns=\"http://www.w3.org/2000/svg\" height=\"24px\" viewBox=\"0 -960 960 960\">\n",
              "    <path d=\"M120-120v-720h720v720H120Zm60-500h600v-160H180v160Zm220 220h160v-160H400v160Zm0 220h160v-160H400v160ZM180-400h160v-160H180v160Zm440 0h160v-160H620v160ZM180-180h160v-160H180v160Zm440 0h160v-160H620v160Z\"/>\n",
              "  </svg>\n",
              "    </button>\n",
              "\n",
              "  <style>\n",
              "    .colab-df-container {\n",
              "      display:flex;\n",
              "      gap: 12px;\n",
              "    }\n",
              "\n",
              "    .colab-df-convert {\n",
              "      background-color: #E8F0FE;\n",
              "      border: none;\n",
              "      border-radius: 50%;\n",
              "      cursor: pointer;\n",
              "      display: none;\n",
              "      fill: #1967D2;\n",
              "      height: 32px;\n",
              "      padding: 0 0 0 0;\n",
              "      width: 32px;\n",
              "    }\n",
              "\n",
              "    .colab-df-convert:hover {\n",
              "      background-color: #E2EBFA;\n",
              "      box-shadow: 0px 1px 2px rgba(60, 64, 67, 0.3), 0px 1px 3px 1px rgba(60, 64, 67, 0.15);\n",
              "      fill: #174EA6;\n",
              "    }\n",
              "\n",
              "    .colab-df-buttons div {\n",
              "      margin-bottom: 4px;\n",
              "    }\n",
              "\n",
              "    [theme=dark] .colab-df-convert {\n",
              "      background-color: #3B4455;\n",
              "      fill: #D2E3FC;\n",
              "    }\n",
              "\n",
              "    [theme=dark] .colab-df-convert:hover {\n",
              "      background-color: #434B5C;\n",
              "      box-shadow: 0px 1px 3px 1px rgba(0, 0, 0, 0.15);\n",
              "      filter: drop-shadow(0px 1px 2px rgba(0, 0, 0, 0.3));\n",
              "      fill: #FFFFFF;\n",
              "    }\n",
              "  </style>\n",
              "\n",
              "    <script>\n",
              "      const buttonEl =\n",
              "        document.querySelector('#df-3314392d-2b61-4621-a535-885d7a286636 button.colab-df-convert');\n",
              "      buttonEl.style.display =\n",
              "        google.colab.kernel.accessAllowed ? 'block' : 'none';\n",
              "\n",
              "      async function convertToInteractive(key) {\n",
              "        const element = document.querySelector('#df-3314392d-2b61-4621-a535-885d7a286636');\n",
              "        const dataTable =\n",
              "          await google.colab.kernel.invokeFunction('convertToInteractive',\n",
              "                                                    [key], {});\n",
              "        if (!dataTable) return;\n",
              "\n",
              "        const docLinkHtml = 'Like what you see? Visit the ' +\n",
              "          '<a target=\"_blank\" href=https://colab.research.google.com/notebooks/data_table.ipynb>data table notebook</a>'\n",
              "          + ' to learn more about interactive tables.';\n",
              "        element.innerHTML = '';\n",
              "        dataTable['output_type'] = 'display_data';\n",
              "        await google.colab.output.renderOutput(dataTable, element);\n",
              "        const docLink = document.createElement('div');\n",
              "        docLink.innerHTML = docLinkHtml;\n",
              "        element.appendChild(docLink);\n",
              "      }\n",
              "    </script>\n",
              "  </div>\n",
              "\n",
              "\n",
              "<div id=\"df-bd68f2af-4e8f-4558-ada7-a88d8bae29e3\">\n",
              "  <button class=\"colab-df-quickchart\" onclick=\"quickchart('df-bd68f2af-4e8f-4558-ada7-a88d8bae29e3')\"\n",
              "            title=\"Suggest charts\"\n",
              "            style=\"display:none;\">\n",
              "\n",
              "<svg xmlns=\"http://www.w3.org/2000/svg\" height=\"24px\"viewBox=\"0 0 24 24\"\n",
              "     width=\"24px\">\n",
              "    <g>\n",
              "        <path d=\"M19 3H5c-1.1 0-2 .9-2 2v14c0 1.1.9 2 2 2h14c1.1 0 2-.9 2-2V5c0-1.1-.9-2-2-2zM9 17H7v-7h2v7zm4 0h-2V7h2v10zm4 0h-2v-4h2v4z\"/>\n",
              "    </g>\n",
              "</svg>\n",
              "  </button>\n",
              "\n",
              "<style>\n",
              "  .colab-df-quickchart {\n",
              "      --bg-color: #E8F0FE;\n",
              "      --fill-color: #1967D2;\n",
              "      --hover-bg-color: #E2EBFA;\n",
              "      --hover-fill-color: #174EA6;\n",
              "      --disabled-fill-color: #AAA;\n",
              "      --disabled-bg-color: #DDD;\n",
              "  }\n",
              "\n",
              "  [theme=dark] .colab-df-quickchart {\n",
              "      --bg-color: #3B4455;\n",
              "      --fill-color: #D2E3FC;\n",
              "      --hover-bg-color: #434B5C;\n",
              "      --hover-fill-color: #FFFFFF;\n",
              "      --disabled-bg-color: #3B4455;\n",
              "      --disabled-fill-color: #666;\n",
              "  }\n",
              "\n",
              "  .colab-df-quickchart {\n",
              "    background-color: var(--bg-color);\n",
              "    border: none;\n",
              "    border-radius: 50%;\n",
              "    cursor: pointer;\n",
              "    display: none;\n",
              "    fill: var(--fill-color);\n",
              "    height: 32px;\n",
              "    padding: 0;\n",
              "    width: 32px;\n",
              "  }\n",
              "\n",
              "  .colab-df-quickchart:hover {\n",
              "    background-color: var(--hover-bg-color);\n",
              "    box-shadow: 0 1px 2px rgba(60, 64, 67, 0.3), 0 1px 3px 1px rgba(60, 64, 67, 0.15);\n",
              "    fill: var(--button-hover-fill-color);\n",
              "  }\n",
              "\n",
              "  .colab-df-quickchart-complete:disabled,\n",
              "  .colab-df-quickchart-complete:disabled:hover {\n",
              "    background-color: var(--disabled-bg-color);\n",
              "    fill: var(--disabled-fill-color);\n",
              "    box-shadow: none;\n",
              "  }\n",
              "\n",
              "  .colab-df-spinner {\n",
              "    border: 2px solid var(--fill-color);\n",
              "    border-color: transparent;\n",
              "    border-bottom-color: var(--fill-color);\n",
              "    animation:\n",
              "      spin 1s steps(1) infinite;\n",
              "  }\n",
              "\n",
              "  @keyframes spin {\n",
              "    0% {\n",
              "      border-color: transparent;\n",
              "      border-bottom-color: var(--fill-color);\n",
              "      border-left-color: var(--fill-color);\n",
              "    }\n",
              "    20% {\n",
              "      border-color: transparent;\n",
              "      border-left-color: var(--fill-color);\n",
              "      border-top-color: var(--fill-color);\n",
              "    }\n",
              "    30% {\n",
              "      border-color: transparent;\n",
              "      border-left-color: var(--fill-color);\n",
              "      border-top-color: var(--fill-color);\n",
              "      border-right-color: var(--fill-color);\n",
              "    }\n",
              "    40% {\n",
              "      border-color: transparent;\n",
              "      border-right-color: var(--fill-color);\n",
              "      border-top-color: var(--fill-color);\n",
              "    }\n",
              "    60% {\n",
              "      border-color: transparent;\n",
              "      border-right-color: var(--fill-color);\n",
              "    }\n",
              "    80% {\n",
              "      border-color: transparent;\n",
              "      border-right-color: var(--fill-color);\n",
              "      border-bottom-color: var(--fill-color);\n",
              "    }\n",
              "    90% {\n",
              "      border-color: transparent;\n",
              "      border-bottom-color: var(--fill-color);\n",
              "    }\n",
              "  }\n",
              "</style>\n",
              "\n",
              "  <script>\n",
              "    async function quickchart(key) {\n",
              "      const quickchartButtonEl =\n",
              "        document.querySelector('#' + key + ' button');\n",
              "      quickchartButtonEl.disabled = true;  // To prevent multiple clicks.\n",
              "      quickchartButtonEl.classList.add('colab-df-spinner');\n",
              "      try {\n",
              "        const charts = await google.colab.kernel.invokeFunction(\n",
              "            'suggestCharts', [key], {});\n",
              "      } catch (error) {\n",
              "        console.error('Error during call to suggestCharts:', error);\n",
              "      }\n",
              "      quickchartButtonEl.classList.remove('colab-df-spinner');\n",
              "      quickchartButtonEl.classList.add('colab-df-quickchart-complete');\n",
              "    }\n",
              "    (() => {\n",
              "      let quickchartButtonEl =\n",
              "        document.querySelector('#df-bd68f2af-4e8f-4558-ada7-a88d8bae29e3 button');\n",
              "      quickchartButtonEl.style.display =\n",
              "        google.colab.kernel.accessAllowed ? 'block' : 'none';\n",
              "    })();\n",
              "  </script>\n",
              "</div>\n",
              "\n",
              "    </div>\n",
              "  </div>\n"
            ],
            "application/vnd.google.colaboratory.intrinsic+json": {
              "type": "dataframe",
              "summary": "{\n  \"name\": \"df\",\n  \"rows\": 5,\n  \"fields\": [\n    {\n      \"column\": \"preg_count\",\n      \"properties\": {\n        \"dtype\": \"number\",\n        \"std\": 4,\n        \"min\": 1,\n        \"max\": 13,\n        \"num_unique_values\": 4,\n        \"samples\": [\n          1,\n          2,\n          3\n        ],\n        \"semantic_type\": \"\",\n        \"description\": \"\"\n      }\n    },\n    {\n      \"column\": \"glucose_concentration\",\n      \"properties\": {\n        \"dtype\": \"number\",\n        \"std\": 25,\n        \"min\": 92,\n        \"max\": 158,\n        \"num_unique_values\": 5,\n        \"samples\": [\n          107,\n          92,\n          130\n        ],\n        \"semantic_type\": \"\",\n        \"description\": \"\"\n      }\n    },\n    {\n      \"column\": \"diastolic_bp\",\n      \"properties\": {\n        \"dtype\": \"number\",\n        \"std\": 24,\n        \"min\": 50,\n        \"max\": 114,\n        \"num_unique_values\": 5,\n        \"samples\": [\n          50,\n          62,\n          78\n        ],\n        \"semantic_type\": \"\",\n        \"description\": \"\"\n      }\n    },\n    {\n      \"column\": \"triceps_skin_fold_thickness\",\n      \"properties\": {\n        \"dtype\": \"number\",\n        \"std\": 13,\n        \"min\": 0,\n        \"max\": 28,\n        \"num_unique_values\": 4,\n        \"samples\": [\n          19,\n          28,\n          0\n        ],\n        \"semantic_type\": \"\",\n        \"description\": \"\"\n      }\n    },\n    {\n      \"column\": \"two_hr_serum_insulin\",\n      \"properties\": {\n        \"dtype\": \"number\",\n        \"std\": 35,\n        \"min\": 0,\n        \"max\": 79,\n        \"num_unique_values\": 2,\n        \"samples\": [\n          79,\n          0\n        ],\n        \"semantic_type\": \"\",\n        \"description\": \"\"\n      }\n    },\n    {\n      \"column\": \"bmi\",\n      \"properties\": {\n        \"dtype\": \"number\",\n        \"std\": 6.495152038251297,\n        \"min\": 25.8,\n        \"max\": 42.3,\n        \"num_unique_values\": 5,\n        \"samples\": [\n          28.3,\n          31.6\n        ],\n        \"semantic_type\": \"\",\n        \"description\": \"\"\n      }\n    },\n    {\n      \"column\": \"diabetes_pedi\",\n      \"properties\": {\n        \"dtype\": \"number\",\n        \"std\": 0.07376855698737776,\n        \"min\": 0.13,\n        \"max\": 0.323,\n        \"num_unique_values\": 5,\n        \"samples\": [\n          0.181,\n          0.13\n        ],\n        \"semantic_type\": \"\",\n        \"description\": \"\"\n      }\n    },\n    {\n      \"column\": \"age\",\n      \"properties\": {\n        \"dtype\": \"number\",\n        \"std\": 7,\n        \"min\": 24,\n        \"max\": 44,\n        \"num_unique_values\": 5,\n        \"samples\": [\n          29,\n          24\n        ],\n        \"semantic_type\": \"\",\n        \"description\": \"\"\n      }\n    },\n    {\n      \"column\": \"diabetes_class\",\n      \"properties\": {\n        \"dtype\": \"number\",\n        \"std\": 0,\n        \"min\": 0,\n        \"max\": 1,\n        \"num_unique_values\": 2,\n        \"samples\": [\n          1,\n          0\n        ],\n        \"semantic_type\": \"\",\n        \"description\": \"\"\n      }\n    }\n  ]\n}"
            }
          },
          "metadata": {},
          "execution_count": 2
        }
      ]
    },
    {
      "cell_type": "markdown",
      "source": [
        "# is null?"
      ],
      "metadata": {
        "id": "wzO2YLEvfzZp"
      }
    },
    {
      "cell_type": "code",
      "source": [
        "df.isnull().sum()"
      ],
      "metadata": {
        "colab": {
          "base_uri": "https://localhost:8080/"
        },
        "id": "fZhh0cNGdyG6",
        "outputId": "69762729-0b3e-40e6-e469-26e0497b8266"
      },
      "execution_count": null,
      "outputs": [
        {
          "output_type": "execute_result",
          "data": {
            "text/plain": [
              "preg_count                     0\n",
              "glucose_concentration          0\n",
              "diastolic_bp                   0\n",
              "triceps_skin_fold_thickness    0\n",
              "two_hr_serum_insulin           0\n",
              "bmi                            0\n",
              "diabetes_pedi                  0\n",
              "age                            0\n",
              "diabetes_class                 0\n",
              "dtype: int64"
            ]
          },
          "metadata": {},
          "execution_count": 3
        }
      ]
    },
    {
      "cell_type": "markdown",
      "source": [
        "# see the columns name"
      ],
      "metadata": {
        "id": "3-BWQ6hPf56P"
      }
    },
    {
      "cell_type": "code",
      "source": [
        "df.columns"
      ],
      "metadata": {
        "colab": {
          "base_uri": "https://localhost:8080/"
        },
        "id": "1Jz1IJIEIZmu",
        "outputId": "d6c7c539-f961-4791-e46e-de4935ec85e2"
      },
      "execution_count": null,
      "outputs": [
        {
          "output_type": "execute_result",
          "data": {
            "text/plain": [
              "Index(['preg_count', 'glucose_concentration', 'diastolic_bp',\n",
              "       'triceps_skin_fold_thickness', 'two_hr_serum_insulin', 'bmi',\n",
              "       'diabetes_pedi', 'age', 'diabetes_class'],\n",
              "      dtype='object')"
            ]
          },
          "metadata": {},
          "execution_count": 4
        }
      ]
    },
    {
      "cell_type": "markdown",
      "source": [
        "# define feature and target"
      ],
      "metadata": {
        "id": "at58vs0Jf9UL"
      }
    },
    {
      "cell_type": "code",
      "source": [
        "X = df[['preg_count', 'glucose_concentration', 'diastolic_bp',\n",
        "       'triceps_skin_fold_thickness', 'two_hr_serum_insulin', 'bmi',\n",
        "       'diabetes_pedi', 'age']]\n",
        "y = df['diabetes_class']"
      ],
      "metadata": {
        "id": "d8EXyHrRIezH"
      },
      "execution_count": null,
      "outputs": []
    },
    {
      "cell_type": "markdown",
      "source": [
        "# Feature engineering - Preprocess feature and target"
      ],
      "metadata": {
        "id": "mIDWFStVgB1R"
      }
    },
    {
      "cell_type": "code",
      "source": [
        "from sklearn.preprocessing import StandardScaler\n",
        "\n",
        "# feature\n",
        "StdScaller = StandardScaler().set_output(transform='pandas')\n",
        "StdScaller.fit(X)\n",
        "X = StdScaller.transform(X)\n"
      ],
      "metadata": {
        "id": "nzyB-nirIpLb"
      },
      "execution_count": null,
      "outputs": []
    },
    {
      "cell_type": "markdown",
      "source": [
        "# split train and test data"
      ],
      "metadata": {
        "id": "pqerUR5wgGMn"
      }
    },
    {
      "cell_type": "code",
      "source": [
        "from sklearn.model_selection import train_test_split\n",
        "X_train, X_test, y_train, y_test = train_test_split(X, y, test_size= 0.2, random_state=42)"
      ],
      "metadata": {
        "id": "1oUqQ1-_MD9K"
      },
      "execution_count": null,
      "outputs": []
    },
    {
      "cell_type": "markdown",
      "source": [
        "# import packages - Sequential and Dense"
      ],
      "metadata": {
        "id": "Jq9tnLNZgLAc"
      }
    },
    {
      "cell_type": "code",
      "source": [
        "from tensorflow.keras.models import Sequential\n",
        "from tensorflow.keras.layers import Dense\n",
        "from tensorflow.keras.optimizers import Adam"
      ],
      "metadata": {
        "id": "f6k4JNX2MX3C"
      },
      "execution_count": null,
      "outputs": []
    },
    {
      "cell_type": "markdown",
      "source": [
        "# Call the Model"
      ],
      "metadata": {
        "id": "xM6vDTtygO6M"
      }
    },
    {
      "cell_type": "code",
      "source": [
        "model = Sequential()"
      ],
      "metadata": {
        "id": "OoWvGURJMxVa"
      },
      "execution_count": null,
      "outputs": []
    },
    {
      "cell_type": "code",
      "source": [
        "X_train.shape"
      ],
      "metadata": {
        "colab": {
          "base_uri": "https://localhost:8080/"
        },
        "id": "aTjqJdooN7hu",
        "outputId": "e11eeff5-ad7a-45d9-9916-7462944432ef"
      },
      "execution_count": null,
      "outputs": [
        {
          "output_type": "execute_result",
          "data": {
            "text/plain": [
              "(614, 8)"
            ]
          },
          "metadata": {},
          "execution_count": 10
        }
      ]
    },
    {
      "cell_type": "markdown",
      "source": [
        "# Define Hidden Layers and target"
      ],
      "metadata": {
        "id": "ApnoVd_PgTdz"
      }
    },
    {
      "cell_type": "code",
      "source": [
        "model.add(Dense(128, activation='relu', input_dim=X_train.shape[1]))\n",
        "# 128 1st hidden layer\n",
        "model.add(Dense(64, activation='relu'))\n",
        "# 64 2nd hidden layer\n",
        "model.add(Dense(32, activation='relu'))\n",
        "# 32 3rd hidden layer\n",
        "model.add(Dense(1, activation='sigmoid'))\n",
        "# 1 target\n",
        "# Sigmoid for classification problem\n",
        "\n",
        "#or\n",
        "# Build and compile model\n",
        "#model = Sequential([Dense(128, activation='relu', input_dim=1),\n",
        "#                    Dense(64, activation='relu'),\n",
        "#                    Dense(32, activation='relu'),\n",
        "#                    Dense(1, activation='sigmoid') ])\n"
      ],
      "metadata": {
        "id": "lDO931GNNHmx"
      },
      "execution_count": null,
      "outputs": []
    },
    {
      "cell_type": "markdown",
      "source": [
        "# get the no of parameter - ChatGPT4 1.75T"
      ],
      "metadata": {
        "id": "lvxEF9c0gW3U"
      }
    },
    {
      "cell_type": "code",
      "source": [
        "model.summary()"
      ],
      "metadata": {
        "colab": {
          "base_uri": "https://localhost:8080/"
        },
        "id": "UgDutYtxNytW",
        "outputId": "fbd95580-141b-4010-bd2e-9d55011ba0c1"
      },
      "execution_count": null,
      "outputs": [
        {
          "output_type": "stream",
          "name": "stdout",
          "text": [
            "Model: \"sequential\"\n",
            "_________________________________________________________________\n",
            " Layer (type)                Output Shape              Param #   \n",
            "=================================================================\n",
            " dense (Dense)               (None, 128)               1152      \n",
            "                                                                 \n",
            " dense_1 (Dense)             (None, 64)                8256      \n",
            "                                                                 \n",
            " dense_2 (Dense)             (None, 32)                2080      \n",
            "                                                                 \n",
            " dense_3 (Dense)             (None, 1)                 33        \n",
            "                                                                 \n",
            "=================================================================\n",
            "Total params: 11521 (45.00 KB)\n",
            "Trainable params: 11521 (45.00 KB)\n",
            "Non-trainable params: 0 (0.00 Byte)\n",
            "_________________________________________________________________\n"
          ]
        }
      ]
    },
    {
      "cell_type": "markdown",
      "source": [
        "# Use complie to reduce data leakage by giving metrics and loss"
      ],
      "metadata": {
        "id": "HOid5BLjgaRY"
      }
    },
    {
      "cell_type": "code",
      "source": [
        "model.compile(loss='binary_crossentropy', optimizer='Adam', metrics=['accuracy'])"
      ],
      "metadata": {
        "id": "_vAn4RkFN1ru"
      },
      "execution_count": null,
      "outputs": []
    },
    {
      "cell_type": "markdown",
      "source": [
        "# fit the model with epochs in trail and error method.\n",
        "# batch size 10 - 10 sample per batch\n",
        "# validation_split = 20% of data"
      ],
      "metadata": {
        "id": "6AwFDE_lgffc"
      }
    },
    {
      "cell_type": "code",
      "source": [
        "model.fit(X_train, y_train, epochs=50, batch_size=10, validation_split=0.20)"
      ],
      "metadata": {
        "colab": {
          "base_uri": "https://localhost:8080/"
        },
        "id": "lqPTuEQxQDdi",
        "outputId": "41f5908d-5942-40ce-c69b-4df2f1889a63"
      },
      "execution_count": null,
      "outputs": [
        {
          "output_type": "stream",
          "name": "stdout",
          "text": [
            "Epoch 1/50\n",
            "50/50 [==============================] - 7s 26ms/step - loss: 0.5991 - accuracy: 0.7047 - val_loss: 0.5559 - val_accuracy: 0.7236\n",
            "Epoch 2/50\n",
            "50/50 [==============================] - 1s 11ms/step - loss: 0.4875 - accuracy: 0.7800 - val_loss: 0.4903 - val_accuracy: 0.7480\n",
            "Epoch 3/50\n",
            "50/50 [==============================] - 1s 11ms/step - loss: 0.4583 - accuracy: 0.7760 - val_loss: 0.4755 - val_accuracy: 0.7480\n",
            "Epoch 4/50\n",
            "50/50 [==============================] - 0s 7ms/step - loss: 0.4407 - accuracy: 0.7821 - val_loss: 0.4730 - val_accuracy: 0.7642\n",
            "Epoch 5/50\n",
            "50/50 [==============================] - 1s 13ms/step - loss: 0.4274 - accuracy: 0.7943 - val_loss: 0.4760 - val_accuracy: 0.7561\n",
            "Epoch 6/50\n",
            "50/50 [==============================] - 1s 15ms/step - loss: 0.4225 - accuracy: 0.7862 - val_loss: 0.4694 - val_accuracy: 0.7480\n",
            "Epoch 7/50\n",
            "50/50 [==============================] - 1s 12ms/step - loss: 0.4157 - accuracy: 0.8004 - val_loss: 0.4748 - val_accuracy: 0.7317\n",
            "Epoch 8/50\n",
            "50/50 [==============================] - 0s 10ms/step - loss: 0.4116 - accuracy: 0.7923 - val_loss: 0.4737 - val_accuracy: 0.7480\n",
            "Epoch 9/50\n",
            "50/50 [==============================] - 1s 12ms/step - loss: 0.3987 - accuracy: 0.8106 - val_loss: 0.4787 - val_accuracy: 0.7642\n",
            "Epoch 10/50\n",
            "50/50 [==============================] - 1s 17ms/step - loss: 0.3897 - accuracy: 0.8045 - val_loss: 0.4741 - val_accuracy: 0.7561\n",
            "Epoch 11/50\n",
            "50/50 [==============================] - 0s 7ms/step - loss: 0.3856 - accuracy: 0.8208 - val_loss: 0.4904 - val_accuracy: 0.7561\n",
            "Epoch 12/50\n",
            "50/50 [==============================] - 1s 12ms/step - loss: 0.4002 - accuracy: 0.8045 - val_loss: 0.4809 - val_accuracy: 0.7561\n",
            "Epoch 13/50\n",
            "50/50 [==============================] - 0s 4ms/step - loss: 0.3743 - accuracy: 0.8187 - val_loss: 0.4730 - val_accuracy: 0.7561\n",
            "Epoch 14/50\n",
            "50/50 [==============================] - 0s 4ms/step - loss: 0.3815 - accuracy: 0.8167 - val_loss: 0.4778 - val_accuracy: 0.7724\n",
            "Epoch 15/50\n",
            "50/50 [==============================] - 0s 4ms/step - loss: 0.3598 - accuracy: 0.8330 - val_loss: 0.4896 - val_accuracy: 0.7886\n",
            "Epoch 16/50\n",
            "50/50 [==============================] - 0s 5ms/step - loss: 0.3709 - accuracy: 0.8228 - val_loss: 0.4852 - val_accuracy: 0.7561\n",
            "Epoch 17/50\n",
            "50/50 [==============================] - 0s 6ms/step - loss: 0.3558 - accuracy: 0.8391 - val_loss: 0.4851 - val_accuracy: 0.7642\n",
            "Epoch 18/50\n",
            "50/50 [==============================] - 0s 6ms/step - loss: 0.3480 - accuracy: 0.8391 - val_loss: 0.4837 - val_accuracy: 0.7724\n",
            "Epoch 19/50\n",
            "50/50 [==============================] - 0s 7ms/step - loss: 0.3378 - accuracy: 0.8452 - val_loss: 0.4693 - val_accuracy: 0.7561\n",
            "Epoch 20/50\n",
            "50/50 [==============================] - 0s 6ms/step - loss: 0.3277 - accuracy: 0.8534 - val_loss: 0.4915 - val_accuracy: 0.7480\n",
            "Epoch 21/50\n",
            "50/50 [==============================] - 0s 7ms/step - loss: 0.3228 - accuracy: 0.8595 - val_loss: 0.4872 - val_accuracy: 0.7398\n",
            "Epoch 22/50\n",
            "50/50 [==============================] - 0s 7ms/step - loss: 0.3195 - accuracy: 0.8554 - val_loss: 0.5108 - val_accuracy: 0.7724\n",
            "Epoch 23/50\n",
            "50/50 [==============================] - 0s 6ms/step - loss: 0.3356 - accuracy: 0.8493 - val_loss: 0.5304 - val_accuracy: 0.7805\n",
            "Epoch 24/50\n",
            "50/50 [==============================] - 0s 5ms/step - loss: 0.3152 - accuracy: 0.8758 - val_loss: 0.5089 - val_accuracy: 0.7886\n",
            "Epoch 25/50\n",
            "50/50 [==============================] - 0s 6ms/step - loss: 0.2991 - accuracy: 0.8656 - val_loss: 0.5020 - val_accuracy: 0.7642\n",
            "Epoch 26/50\n",
            "50/50 [==============================] - 0s 5ms/step - loss: 0.2897 - accuracy: 0.8778 - val_loss: 0.5255 - val_accuracy: 0.7805\n",
            "Epoch 27/50\n",
            "50/50 [==============================] - 0s 7ms/step - loss: 0.2910 - accuracy: 0.8676 - val_loss: 0.5069 - val_accuracy: 0.7724\n",
            "Epoch 28/50\n",
            "50/50 [==============================] - 1s 14ms/step - loss: 0.2898 - accuracy: 0.8839 - val_loss: 0.5256 - val_accuracy: 0.7967\n",
            "Epoch 29/50\n",
            "50/50 [==============================] - 1s 12ms/step - loss: 0.2777 - accuracy: 0.8880 - val_loss: 0.5197 - val_accuracy: 0.7886\n",
            "Epoch 30/50\n",
            "50/50 [==============================] - 0s 7ms/step - loss: 0.2851 - accuracy: 0.8778 - val_loss: 0.5200 - val_accuracy: 0.7805\n",
            "Epoch 31/50\n",
            "50/50 [==============================] - 0s 8ms/step - loss: 0.2591 - accuracy: 0.9002 - val_loss: 0.5512 - val_accuracy: 0.8049\n",
            "Epoch 32/50\n",
            "50/50 [==============================] - 0s 9ms/step - loss: 0.2539 - accuracy: 0.8982 - val_loss: 0.5329 - val_accuracy: 0.7805\n",
            "Epoch 33/50\n",
            "50/50 [==============================] - 1s 11ms/step - loss: 0.2490 - accuracy: 0.9002 - val_loss: 0.5435 - val_accuracy: 0.7886\n",
            "Epoch 34/50\n",
            "50/50 [==============================] - 1s 14ms/step - loss: 0.2569 - accuracy: 0.8961 - val_loss: 0.5309 - val_accuracy: 0.7967\n",
            "Epoch 35/50\n",
            "50/50 [==============================] - 0s 10ms/step - loss: 0.2353 - accuracy: 0.9002 - val_loss: 0.5626 - val_accuracy: 0.7724\n",
            "Epoch 36/50\n",
            "50/50 [==============================] - 0s 4ms/step - loss: 0.2335 - accuracy: 0.9063 - val_loss: 0.5537 - val_accuracy: 0.7724\n",
            "Epoch 37/50\n",
            "50/50 [==============================] - 0s 5ms/step - loss: 0.2113 - accuracy: 0.9165 - val_loss: 0.5764 - val_accuracy: 0.7886\n",
            "Epoch 38/50\n",
            "50/50 [==============================] - 0s 3ms/step - loss: 0.2171 - accuracy: 0.9185 - val_loss: 0.5656 - val_accuracy: 0.7886\n",
            "Epoch 39/50\n",
            "50/50 [==============================] - 0s 4ms/step - loss: 0.2203 - accuracy: 0.9206 - val_loss: 0.5925 - val_accuracy: 0.7561\n",
            "Epoch 40/50\n",
            "50/50 [==============================] - 0s 4ms/step - loss: 0.1971 - accuracy: 0.9308 - val_loss: 0.5899 - val_accuracy: 0.7805\n",
            "Epoch 41/50\n",
            "50/50 [==============================] - 0s 4ms/step - loss: 0.1800 - accuracy: 0.9328 - val_loss: 0.6115 - val_accuracy: 0.7724\n",
            "Epoch 42/50\n",
            "50/50 [==============================] - 0s 4ms/step - loss: 0.1800 - accuracy: 0.9430 - val_loss: 0.6017 - val_accuracy: 0.7805\n",
            "Epoch 43/50\n",
            "50/50 [==============================] - 0s 4ms/step - loss: 0.1769 - accuracy: 0.9430 - val_loss: 0.7175 - val_accuracy: 0.7805\n",
            "Epoch 44/50\n",
            "50/50 [==============================] - 0s 6ms/step - loss: 0.1790 - accuracy: 0.9348 - val_loss: 0.6818 - val_accuracy: 0.7724\n",
            "Epoch 45/50\n",
            "50/50 [==============================] - 0s 4ms/step - loss: 0.1503 - accuracy: 0.9572 - val_loss: 0.7197 - val_accuracy: 0.7724\n",
            "Epoch 46/50\n",
            "50/50 [==============================] - 0s 4ms/step - loss: 0.1847 - accuracy: 0.9369 - val_loss: 0.6691 - val_accuracy: 0.7886\n",
            "Epoch 47/50\n",
            "50/50 [==============================] - 0s 4ms/step - loss: 0.1429 - accuracy: 0.9511 - val_loss: 0.7152 - val_accuracy: 0.7317\n",
            "Epoch 48/50\n",
            "50/50 [==============================] - 0s 5ms/step - loss: 0.1394 - accuracy: 0.9532 - val_loss: 0.7166 - val_accuracy: 0.7724\n",
            "Epoch 49/50\n",
            "50/50 [==============================] - 0s 5ms/step - loss: 0.1573 - accuracy: 0.9430 - val_loss: 0.7737 - val_accuracy: 0.7724\n",
            "Epoch 50/50\n",
            "50/50 [==============================] - 0s 4ms/step - loss: 0.1312 - accuracy: 0.9552 - val_loss: 0.7367 - val_accuracy: 0.7561\n"
          ]
        },
        {
          "output_type": "execute_result",
          "data": {
            "text/plain": [
              "<keras.src.callbacks.History at 0x7efa7a2e1600>"
            ]
          },
          "metadata": {},
          "execution_count": 14
        }
      ]
    },
    {
      "cell_type": "markdown",
      "source": [
        "# Predict"
      ],
      "metadata": {
        "id": "H5sGBv89hnF9"
      }
    },
    {
      "cell_type": "code",
      "source": [
        "y_pred = model.predict(X_test)"
      ],
      "metadata": {
        "colab": {
          "base_uri": "https://localhost:8080/"
        },
        "id": "JJrxb2_GSiPQ",
        "outputId": "339e45f6-e61b-4cd5-b388-6a1191045e32"
      },
      "execution_count": null,
      "outputs": [
        {
          "output_type": "stream",
          "name": "stdout",
          "text": [
            "5/5 [==============================] - 0s 5ms/step\n"
          ]
        }
      ]
    },
    {
      "cell_type": "code",
      "source": [
        "# bring 0's and 1's by calling preprocessing BINARIZER\n",
        "from sklearn.preprocessing import Binarizer\n",
        "Binarizer = Binarizer(threshold=0.5)\n",
        "y_pred = Binarizer.fit_transform(y_pred)"
      ],
      "metadata": {
        "id": "y-eSNsvqfqiM"
      },
      "execution_count": null,
      "outputs": []
    },
    {
      "cell_type": "markdown",
      "source": [
        "# Get the metrics"
      ],
      "metadata": {
        "id": "9wTLwKIghvNK"
      }
    },
    {
      "cell_type": "code",
      "source": [
        "from sklearn.metrics import accuracy_score, classification_report\n",
        "accuracyScore = accuracy_score(y_test, y_pred)\n",
        "print(accuracyScore)\n",
        "classificationReport = classification_report(y_test, y_pred)\n",
        "print(classificationReport)"
      ],
      "metadata": {
        "colab": {
          "base_uri": "https://localhost:8080/"
        },
        "id": "fjWA-CScTQwX",
        "outputId": "453dfe02-43cb-4ba7-b74e-2c97ea750b5a"
      },
      "execution_count": null,
      "outputs": [
        {
          "output_type": "stream",
          "name": "stdout",
          "text": [
            "0.7077922077922078\n",
            "              precision    recall  f1-score   support\n",
            "\n",
            "           0       0.76      0.80      0.78        99\n",
            "           1       0.60      0.55      0.57        55\n",
            "\n",
            "    accuracy                           0.71       154\n",
            "   macro avg       0.68      0.67      0.67       154\n",
            "weighted avg       0.70      0.71      0.70       154\n",
            "\n"
          ]
        }
      ]
    },
    {
      "cell_type": "markdown",
      "source": [
        "# Predict the unseen data\n",
        "Now Pass the unseen data into model predict target. Create a data frame like feature by using numpy range or dictinory dataframe or zip()`"
      ],
      "metadata": {
        "id": "6ev7wx5TnRJS"
      }
    },
    {
      "cell_type": "code",
      "source": [
        "new_data = pd.DataFrame({\n",
        "    'preg_count': [6, 7.8, 8],\n",
        "    'glucose_concentration': [150, 158, 137],\n",
        "    'diastolic_bp': [71, 98, 99],\n",
        "    'triceps_skin_fold_thickness': [37, 40, 10],\n",
        "    'two_hr_serum_insulin': [50, 75, 100],\n",
        "    'bmi': [25, 35, 20],\n",
        "    'diabetes_pedi': [0.8, 0.9, 1.8],\n",
        "    'age': [50, 60, 70]\n",
        "})\n",
        "new_data"
      ],
      "metadata": {
        "colab": {
          "base_uri": "https://localhost:8080/",
          "height": 143
        },
        "id": "E-IPRYItnSmO",
        "outputId": "15c0b639-4d98-4fc5-d76a-cac670f07d91"
      },
      "execution_count": null,
      "outputs": [
        {
          "output_type": "execute_result",
          "data": {
            "text/plain": [
              "   preg_count  glucose_concentration  diastolic_bp  \\\n",
              "0         6.0                    150            71   \n",
              "1         7.8                    158            98   \n",
              "2         8.0                    137            99   \n",
              "\n",
              "   triceps_skin_fold_thickness  two_hr_serum_insulin  bmi  diabetes_pedi  age  \n",
              "0                           37                    50   25            0.8   50  \n",
              "1                           40                    75   35            0.9   60  \n",
              "2                           10                   100   20            1.8   70  "
            ],
            "text/html": [
              "\n",
              "  <div id=\"df-5a290cdb-290e-4eb4-adb2-359817f3e350\" class=\"colab-df-container\">\n",
              "    <div>\n",
              "<style scoped>\n",
              "    .dataframe tbody tr th:only-of-type {\n",
              "        vertical-align: middle;\n",
              "    }\n",
              "\n",
              "    .dataframe tbody tr th {\n",
              "        vertical-align: top;\n",
              "    }\n",
              "\n",
              "    .dataframe thead th {\n",
              "        text-align: right;\n",
              "    }\n",
              "</style>\n",
              "<table border=\"1\" class=\"dataframe\">\n",
              "  <thead>\n",
              "    <tr style=\"text-align: right;\">\n",
              "      <th></th>\n",
              "      <th>preg_count</th>\n",
              "      <th>glucose_concentration</th>\n",
              "      <th>diastolic_bp</th>\n",
              "      <th>triceps_skin_fold_thickness</th>\n",
              "      <th>two_hr_serum_insulin</th>\n",
              "      <th>bmi</th>\n",
              "      <th>diabetes_pedi</th>\n",
              "      <th>age</th>\n",
              "    </tr>\n",
              "  </thead>\n",
              "  <tbody>\n",
              "    <tr>\n",
              "      <th>0</th>\n",
              "      <td>6.0</td>\n",
              "      <td>150</td>\n",
              "      <td>71</td>\n",
              "      <td>37</td>\n",
              "      <td>50</td>\n",
              "      <td>25</td>\n",
              "      <td>0.8</td>\n",
              "      <td>50</td>\n",
              "    </tr>\n",
              "    <tr>\n",
              "      <th>1</th>\n",
              "      <td>7.8</td>\n",
              "      <td>158</td>\n",
              "      <td>98</td>\n",
              "      <td>40</td>\n",
              "      <td>75</td>\n",
              "      <td>35</td>\n",
              "      <td>0.9</td>\n",
              "      <td>60</td>\n",
              "    </tr>\n",
              "    <tr>\n",
              "      <th>2</th>\n",
              "      <td>8.0</td>\n",
              "      <td>137</td>\n",
              "      <td>99</td>\n",
              "      <td>10</td>\n",
              "      <td>100</td>\n",
              "      <td>20</td>\n",
              "      <td>1.8</td>\n",
              "      <td>70</td>\n",
              "    </tr>\n",
              "  </tbody>\n",
              "</table>\n",
              "</div>\n",
              "    <div class=\"colab-df-buttons\">\n",
              "\n",
              "  <div class=\"colab-df-container\">\n",
              "    <button class=\"colab-df-convert\" onclick=\"convertToInteractive('df-5a290cdb-290e-4eb4-adb2-359817f3e350')\"\n",
              "            title=\"Convert this dataframe to an interactive table.\"\n",
              "            style=\"display:none;\">\n",
              "\n",
              "  <svg xmlns=\"http://www.w3.org/2000/svg\" height=\"24px\" viewBox=\"0 -960 960 960\">\n",
              "    <path d=\"M120-120v-720h720v720H120Zm60-500h600v-160H180v160Zm220 220h160v-160H400v160Zm0 220h160v-160H400v160ZM180-400h160v-160H180v160Zm440 0h160v-160H620v160ZM180-180h160v-160H180v160Zm440 0h160v-160H620v160Z\"/>\n",
              "  </svg>\n",
              "    </button>\n",
              "\n",
              "  <style>\n",
              "    .colab-df-container {\n",
              "      display:flex;\n",
              "      gap: 12px;\n",
              "    }\n",
              "\n",
              "    .colab-df-convert {\n",
              "      background-color: #E8F0FE;\n",
              "      border: none;\n",
              "      border-radius: 50%;\n",
              "      cursor: pointer;\n",
              "      display: none;\n",
              "      fill: #1967D2;\n",
              "      height: 32px;\n",
              "      padding: 0 0 0 0;\n",
              "      width: 32px;\n",
              "    }\n",
              "\n",
              "    .colab-df-convert:hover {\n",
              "      background-color: #E2EBFA;\n",
              "      box-shadow: 0px 1px 2px rgba(60, 64, 67, 0.3), 0px 1px 3px 1px rgba(60, 64, 67, 0.15);\n",
              "      fill: #174EA6;\n",
              "    }\n",
              "\n",
              "    .colab-df-buttons div {\n",
              "      margin-bottom: 4px;\n",
              "    }\n",
              "\n",
              "    [theme=dark] .colab-df-convert {\n",
              "      background-color: #3B4455;\n",
              "      fill: #D2E3FC;\n",
              "    }\n",
              "\n",
              "    [theme=dark] .colab-df-convert:hover {\n",
              "      background-color: #434B5C;\n",
              "      box-shadow: 0px 1px 3px 1px rgba(0, 0, 0, 0.15);\n",
              "      filter: drop-shadow(0px 1px 2px rgba(0, 0, 0, 0.3));\n",
              "      fill: #FFFFFF;\n",
              "    }\n",
              "  </style>\n",
              "\n",
              "    <script>\n",
              "      const buttonEl =\n",
              "        document.querySelector('#df-5a290cdb-290e-4eb4-adb2-359817f3e350 button.colab-df-convert');\n",
              "      buttonEl.style.display =\n",
              "        google.colab.kernel.accessAllowed ? 'block' : 'none';\n",
              "\n",
              "      async function convertToInteractive(key) {\n",
              "        const element = document.querySelector('#df-5a290cdb-290e-4eb4-adb2-359817f3e350');\n",
              "        const dataTable =\n",
              "          await google.colab.kernel.invokeFunction('convertToInteractive',\n",
              "                                                    [key], {});\n",
              "        if (!dataTable) return;\n",
              "\n",
              "        const docLinkHtml = 'Like what you see? Visit the ' +\n",
              "          '<a target=\"_blank\" href=https://colab.research.google.com/notebooks/data_table.ipynb>data table notebook</a>'\n",
              "          + ' to learn more about interactive tables.';\n",
              "        element.innerHTML = '';\n",
              "        dataTable['output_type'] = 'display_data';\n",
              "        await google.colab.output.renderOutput(dataTable, element);\n",
              "        const docLink = document.createElement('div');\n",
              "        docLink.innerHTML = docLinkHtml;\n",
              "        element.appendChild(docLink);\n",
              "      }\n",
              "    </script>\n",
              "  </div>\n",
              "\n",
              "\n",
              "<div id=\"df-7bb573b4-2c71-4d36-a238-cf5a4cc2006f\">\n",
              "  <button class=\"colab-df-quickchart\" onclick=\"quickchart('df-7bb573b4-2c71-4d36-a238-cf5a4cc2006f')\"\n",
              "            title=\"Suggest charts\"\n",
              "            style=\"display:none;\">\n",
              "\n",
              "<svg xmlns=\"http://www.w3.org/2000/svg\" height=\"24px\"viewBox=\"0 0 24 24\"\n",
              "     width=\"24px\">\n",
              "    <g>\n",
              "        <path d=\"M19 3H5c-1.1 0-2 .9-2 2v14c0 1.1.9 2 2 2h14c1.1 0 2-.9 2-2V5c0-1.1-.9-2-2-2zM9 17H7v-7h2v7zm4 0h-2V7h2v10zm4 0h-2v-4h2v4z\"/>\n",
              "    </g>\n",
              "</svg>\n",
              "  </button>\n",
              "\n",
              "<style>\n",
              "  .colab-df-quickchart {\n",
              "      --bg-color: #E8F0FE;\n",
              "      --fill-color: #1967D2;\n",
              "      --hover-bg-color: #E2EBFA;\n",
              "      --hover-fill-color: #174EA6;\n",
              "      --disabled-fill-color: #AAA;\n",
              "      --disabled-bg-color: #DDD;\n",
              "  }\n",
              "\n",
              "  [theme=dark] .colab-df-quickchart {\n",
              "      --bg-color: #3B4455;\n",
              "      --fill-color: #D2E3FC;\n",
              "      --hover-bg-color: #434B5C;\n",
              "      --hover-fill-color: #FFFFFF;\n",
              "      --disabled-bg-color: #3B4455;\n",
              "      --disabled-fill-color: #666;\n",
              "  }\n",
              "\n",
              "  .colab-df-quickchart {\n",
              "    background-color: var(--bg-color);\n",
              "    border: none;\n",
              "    border-radius: 50%;\n",
              "    cursor: pointer;\n",
              "    display: none;\n",
              "    fill: var(--fill-color);\n",
              "    height: 32px;\n",
              "    padding: 0;\n",
              "    width: 32px;\n",
              "  }\n",
              "\n",
              "  .colab-df-quickchart:hover {\n",
              "    background-color: var(--hover-bg-color);\n",
              "    box-shadow: 0 1px 2px rgba(60, 64, 67, 0.3), 0 1px 3px 1px rgba(60, 64, 67, 0.15);\n",
              "    fill: var(--button-hover-fill-color);\n",
              "  }\n",
              "\n",
              "  .colab-df-quickchart-complete:disabled,\n",
              "  .colab-df-quickchart-complete:disabled:hover {\n",
              "    background-color: var(--disabled-bg-color);\n",
              "    fill: var(--disabled-fill-color);\n",
              "    box-shadow: none;\n",
              "  }\n",
              "\n",
              "  .colab-df-spinner {\n",
              "    border: 2px solid var(--fill-color);\n",
              "    border-color: transparent;\n",
              "    border-bottom-color: var(--fill-color);\n",
              "    animation:\n",
              "      spin 1s steps(1) infinite;\n",
              "  }\n",
              "\n",
              "  @keyframes spin {\n",
              "    0% {\n",
              "      border-color: transparent;\n",
              "      border-bottom-color: var(--fill-color);\n",
              "      border-left-color: var(--fill-color);\n",
              "    }\n",
              "    20% {\n",
              "      border-color: transparent;\n",
              "      border-left-color: var(--fill-color);\n",
              "      border-top-color: var(--fill-color);\n",
              "    }\n",
              "    30% {\n",
              "      border-color: transparent;\n",
              "      border-left-color: var(--fill-color);\n",
              "      border-top-color: var(--fill-color);\n",
              "      border-right-color: var(--fill-color);\n",
              "    }\n",
              "    40% {\n",
              "      border-color: transparent;\n",
              "      border-right-color: var(--fill-color);\n",
              "      border-top-color: var(--fill-color);\n",
              "    }\n",
              "    60% {\n",
              "      border-color: transparent;\n",
              "      border-right-color: var(--fill-color);\n",
              "    }\n",
              "    80% {\n",
              "      border-color: transparent;\n",
              "      border-right-color: var(--fill-color);\n",
              "      border-bottom-color: var(--fill-color);\n",
              "    }\n",
              "    90% {\n",
              "      border-color: transparent;\n",
              "      border-bottom-color: var(--fill-color);\n",
              "    }\n",
              "  }\n",
              "</style>\n",
              "\n",
              "  <script>\n",
              "    async function quickchart(key) {\n",
              "      const quickchartButtonEl =\n",
              "        document.querySelector('#' + key + ' button');\n",
              "      quickchartButtonEl.disabled = true;  // To prevent multiple clicks.\n",
              "      quickchartButtonEl.classList.add('colab-df-spinner');\n",
              "      try {\n",
              "        const charts = await google.colab.kernel.invokeFunction(\n",
              "            'suggestCharts', [key], {});\n",
              "      } catch (error) {\n",
              "        console.error('Error during call to suggestCharts:', error);\n",
              "      }\n",
              "      quickchartButtonEl.classList.remove('colab-df-spinner');\n",
              "      quickchartButtonEl.classList.add('colab-df-quickchart-complete');\n",
              "    }\n",
              "    (() => {\n",
              "      let quickchartButtonEl =\n",
              "        document.querySelector('#df-7bb573b4-2c71-4d36-a238-cf5a4cc2006f button');\n",
              "      quickchartButtonEl.style.display =\n",
              "        google.colab.kernel.accessAllowed ? 'block' : 'none';\n",
              "    })();\n",
              "  </script>\n",
              "</div>\n",
              "\n",
              "  <div id=\"id_24f7fde2-c19e-4dc0-a036-660888d1925d\">\n",
              "    <style>\n",
              "      .colab-df-generate {\n",
              "        background-color: #E8F0FE;\n",
              "        border: none;\n",
              "        border-radius: 50%;\n",
              "        cursor: pointer;\n",
              "        display: none;\n",
              "        fill: #1967D2;\n",
              "        height: 32px;\n",
              "        padding: 0 0 0 0;\n",
              "        width: 32px;\n",
              "      }\n",
              "\n",
              "      .colab-df-generate:hover {\n",
              "        background-color: #E2EBFA;\n",
              "        box-shadow: 0px 1px 2px rgba(60, 64, 67, 0.3), 0px 1px 3px 1px rgba(60, 64, 67, 0.15);\n",
              "        fill: #174EA6;\n",
              "      }\n",
              "\n",
              "      [theme=dark] .colab-df-generate {\n",
              "        background-color: #3B4455;\n",
              "        fill: #D2E3FC;\n",
              "      }\n",
              "\n",
              "      [theme=dark] .colab-df-generate:hover {\n",
              "        background-color: #434B5C;\n",
              "        box-shadow: 0px 1px 3px 1px rgba(0, 0, 0, 0.15);\n",
              "        filter: drop-shadow(0px 1px 2px rgba(0, 0, 0, 0.3));\n",
              "        fill: #FFFFFF;\n",
              "      }\n",
              "    </style>\n",
              "    <button class=\"colab-df-generate\" onclick=\"generateWithVariable('new_data')\"\n",
              "            title=\"Generate code using this dataframe.\"\n",
              "            style=\"display:none;\">\n",
              "\n",
              "  <svg xmlns=\"http://www.w3.org/2000/svg\" height=\"24px\"viewBox=\"0 0 24 24\"\n",
              "       width=\"24px\">\n",
              "    <path d=\"M7,19H8.4L18.45,9,17,7.55,7,17.6ZM5,21V16.75L18.45,3.32a2,2,0,0,1,2.83,0l1.4,1.43a1.91,1.91,0,0,1,.58,1.4,1.91,1.91,0,0,1-.58,1.4L9.25,21ZM18.45,9,17,7.55Zm-12,3A5.31,5.31,0,0,0,4.9,8.1,5.31,5.31,0,0,0,1,6.5,5.31,5.31,0,0,0,4.9,4.9,5.31,5.31,0,0,0,6.5,1,5.31,5.31,0,0,0,8.1,4.9,5.31,5.31,0,0,0,12,6.5,5.46,5.46,0,0,0,6.5,12Z\"/>\n",
              "  </svg>\n",
              "    </button>\n",
              "    <script>\n",
              "      (() => {\n",
              "      const buttonEl =\n",
              "        document.querySelector('#id_24f7fde2-c19e-4dc0-a036-660888d1925d button.colab-df-generate');\n",
              "      buttonEl.style.display =\n",
              "        google.colab.kernel.accessAllowed ? 'block' : 'none';\n",
              "\n",
              "      buttonEl.onclick = () => {\n",
              "        google.colab.notebook.generateWithVariable('new_data');\n",
              "      }\n",
              "      })();\n",
              "    </script>\n",
              "  </div>\n",
              "\n",
              "    </div>\n",
              "  </div>\n"
            ],
            "application/vnd.google.colaboratory.intrinsic+json": {
              "type": "dataframe",
              "variable_name": "new_data",
              "summary": "{\n  \"name\": \"new_data\",\n  \"rows\": 3,\n  \"fields\": [\n    {\n      \"column\": \"preg_count\",\n      \"properties\": {\n        \"dtype\": \"number\",\n        \"std\": 1.1015141094572205,\n        \"min\": 6.0,\n        \"max\": 8.0,\n        \"num_unique_values\": 3,\n        \"samples\": [\n          6.0,\n          7.8,\n          8.0\n        ],\n        \"semantic_type\": \"\",\n        \"description\": \"\"\n      }\n    },\n    {\n      \"column\": \"glucose_concentration\",\n      \"properties\": {\n        \"dtype\": \"number\",\n        \"std\": 10,\n        \"min\": 137,\n        \"max\": 158,\n        \"num_unique_values\": 3,\n        \"samples\": [\n          150,\n          158,\n          137\n        ],\n        \"semantic_type\": \"\",\n        \"description\": \"\"\n      }\n    },\n    {\n      \"column\": \"diastolic_bp\",\n      \"properties\": {\n        \"dtype\": \"number\",\n        \"std\": 15,\n        \"min\": 71,\n        \"max\": 99,\n        \"num_unique_values\": 3,\n        \"samples\": [\n          71,\n          98,\n          99\n        ],\n        \"semantic_type\": \"\",\n        \"description\": \"\"\n      }\n    },\n    {\n      \"column\": \"triceps_skin_fold_thickness\",\n      \"properties\": {\n        \"dtype\": \"number\",\n        \"std\": 16,\n        \"min\": 10,\n        \"max\": 40,\n        \"num_unique_values\": 3,\n        \"samples\": [\n          37,\n          40,\n          10\n        ],\n        \"semantic_type\": \"\",\n        \"description\": \"\"\n      }\n    },\n    {\n      \"column\": \"two_hr_serum_insulin\",\n      \"properties\": {\n        \"dtype\": \"number\",\n        \"std\": 25,\n        \"min\": 50,\n        \"max\": 100,\n        \"num_unique_values\": 3,\n        \"samples\": [\n          50,\n          75,\n          100\n        ],\n        \"semantic_type\": \"\",\n        \"description\": \"\"\n      }\n    },\n    {\n      \"column\": \"bmi\",\n      \"properties\": {\n        \"dtype\": \"number\",\n        \"std\": 7,\n        \"min\": 20,\n        \"max\": 35,\n        \"num_unique_values\": 3,\n        \"samples\": [\n          25,\n          35,\n          20\n        ],\n        \"semantic_type\": \"\",\n        \"description\": \"\"\n      }\n    },\n    {\n      \"column\": \"diabetes_pedi\",\n      \"properties\": {\n        \"dtype\": \"number\",\n        \"std\": 0.5507570547286103,\n        \"min\": 0.8,\n        \"max\": 1.8,\n        \"num_unique_values\": 3,\n        \"samples\": [\n          0.8,\n          0.9,\n          1.8\n        ],\n        \"semantic_type\": \"\",\n        \"description\": \"\"\n      }\n    },\n    {\n      \"column\": \"age\",\n      \"properties\": {\n        \"dtype\": \"number\",\n        \"std\": 10,\n        \"min\": 50,\n        \"max\": 70,\n        \"num_unique_values\": 3,\n        \"samples\": [\n          50,\n          60,\n          70\n        ],\n        \"semantic_type\": \"\",\n        \"description\": \"\"\n      }\n    }\n  ]\n}"
            }
          },
          "metadata": {},
          "execution_count": 25
        }
      ]
    },
    {
      "cell_type": "markdown",
      "source": [
        "# Preprocess the unseen data\n",
        "Use the scaling to convert 0/1 which was used in the preprocessing the feature.\n",
        "Only transform since data sets is already fitted during feature preprocessing."
      ],
      "metadata": {
        "id": "ZsbFsiowo9Xq"
      }
    },
    {
      "cell_type": "code",
      "source": [
        "new_data = StdScaller.transform(new_data)\n",
        "new_pred = model.predict(new_data)\n",
        "new_pred = Binarizer.fit_transform(new_pred)\n",
        "new_pred"
      ],
      "metadata": {
        "colab": {
          "base_uri": "https://localhost:8080/"
        },
        "id": "Ke1NSWaHo_3h",
        "outputId": "f59f98b5-eae8-490c-9dc9-bab6d925e558"
      },
      "execution_count": null,
      "outputs": [
        {
          "output_type": "stream",
          "name": "stdout",
          "text": [
            "1/1 [==============================] - 0s 52ms/step\n"
          ]
        },
        {
          "output_type": "execute_result",
          "data": {
            "text/plain": [
              "array([[0.],\n",
              "       [1.],\n",
              "       [1.]], dtype=float32)"
            ]
          },
          "metadata": {},
          "execution_count": 26
        }
      ]
    },
    {
      "cell_type": "code",
      "source": [],
      "metadata": {
        "id": "ttRpEL0fpCdL"
      },
      "execution_count": null,
      "outputs": []
    }
  ]
}
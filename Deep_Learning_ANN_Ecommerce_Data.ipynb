{
  "nbformat": 4,
  "nbformat_minor": 0,
  "metadata": {
    "colab": {
      "provenance": [],
      "authorship_tag": "ABX9TyPXkqhMmnQBQFKlL+5xgqrK",
      "include_colab_link": true
    },
    "kernelspec": {
      "name": "python3",
      "display_name": "Python 3"
    },
    "language_info": {
      "name": "python"
    }
  },
  "cells": [
    {
      "cell_type": "markdown",
      "metadata": {
        "id": "view-in-github",
        "colab_type": "text"
      },
      "source": [
        "<a href=\"https://colab.research.google.com/github/SBakthavachalam/Data-Science---Project/blob/main/Deep_Learning_ANN_Ecommerce_Data.ipynb\" target=\"_parent\"><img src=\"https://colab.research.google.com/assets/colab-badge.svg\" alt=\"Open In Colab\"/></a>"
      ]
    },
    {
      "cell_type": "code",
      "execution_count": 1,
      "metadata": {
        "id": "pzxzaqnjmn4I",
        "colab": {
          "base_uri": "https://localhost:8080/"
        },
        "outputId": "6641c352-3b45-414b-cde9-7fe2d463baa9"
      },
      "outputs": [
        {
          "output_type": "stream",
          "name": "stdout",
          "text": [
            "<class 'pandas.core.frame.DataFrame'>\n",
            "RangeIndex: 500 entries, 0 to 499\n",
            "Data columns (total 8 columns):\n",
            " #   Column                Non-Null Count  Dtype  \n",
            "---  ------                --------------  -----  \n",
            " 0   Email                 500 non-null    object \n",
            " 1   Address               500 non-null    object \n",
            " 2   Avatar                500 non-null    object \n",
            " 3   Avg. Session Length   500 non-null    float64\n",
            " 4   Time on App           500 non-null    float64\n",
            " 5   Time on Website       500 non-null    float64\n",
            " 6   Length of Membership  500 non-null    float64\n",
            " 7   Yearly Amount Spent   500 non-null    float64\n",
            "dtypes: float64(5), object(3)\n",
            "memory usage: 31.4+ KB\n"
          ]
        }
      ],
      "source": [
        "# import data\n",
        "import pandas as pd\n",
        "df = pd.read_csv('/content/Ecommerce Customers (2).csv')\n",
        "df.info()"
      ]
    },
    {
      "cell_type": "code",
      "source": [
        "# Retrieve data\n",
        "df.sample(5)"
      ],
      "metadata": {
        "colab": {
          "base_uri": "https://localhost:8080/",
          "height": 310
        },
        "id": "dBrO_VNsIO1A",
        "outputId": "56918b22-6a85-44d1-dd6f-7bbfecfd52bf"
      },
      "execution_count": 2,
      "outputs": [
        {
          "output_type": "execute_result",
          "data": {
            "text/plain": [
              "                                 Email  \\\n",
              "325  rogersheather@hamilton-jensen.org   \n",
              "396              waltonkaren@gmail.com   \n",
              "107               amandadean@gmail.com   \n",
              "295              thomaswendy@yahoo.com   \n",
              "152         dominguezjacob@hotmail.com   \n",
              "\n",
              "                                               Address          Avatar  \\\n",
              "325            510 Michele Port\\nEast Angela, HI 23618       MintCream   \n",
              "396  355 Villegas Isle Apt. 070\\nWest Jenniferview,...           Green   \n",
              "107     66880 Mckinney Hills\\nMatthewchester, MH 88386         DimGray   \n",
              "295           449 Amanda Tunnel\\nJoshuahaven, CO 15377   LavenderBlush   \n",
              "152  8594 Erica Manors Apt. 529\\nLake Miguel, MH 10...  CornflowerBlue   \n",
              "\n",
              "     Avg. Session Length  Time on App  Time on Website  Length of Membership  \\\n",
              "325            33.785207    13.039511        36.312727              2.018195   \n",
              "396            35.742670    10.889828        35.565436              6.115199   \n",
              "107            32.063775    10.719150        37.712509              3.004743   \n",
              "295            31.309193    11.947175        36.190833              3.205530   \n",
              "152            32.510218    10.984836        37.396497              5.391275   \n",
              "\n",
              "     Yearly Amount Spent  \n",
              "325           447.187644  \n",
              "396           669.987141  \n",
              "107           378.330907  \n",
              "295           432.720718  \n",
              "152           555.892595  "
            ],
            "text/html": [
              "\n",
              "  <div id=\"df-ba8fedb8-5f01-4353-a947-918cd701cac7\" class=\"colab-df-container\">\n",
              "    <div>\n",
              "<style scoped>\n",
              "    .dataframe tbody tr th:only-of-type {\n",
              "        vertical-align: middle;\n",
              "    }\n",
              "\n",
              "    .dataframe tbody tr th {\n",
              "        vertical-align: top;\n",
              "    }\n",
              "\n",
              "    .dataframe thead th {\n",
              "        text-align: right;\n",
              "    }\n",
              "</style>\n",
              "<table border=\"1\" class=\"dataframe\">\n",
              "  <thead>\n",
              "    <tr style=\"text-align: right;\">\n",
              "      <th></th>\n",
              "      <th>Email</th>\n",
              "      <th>Address</th>\n",
              "      <th>Avatar</th>\n",
              "      <th>Avg. Session Length</th>\n",
              "      <th>Time on App</th>\n",
              "      <th>Time on Website</th>\n",
              "      <th>Length of Membership</th>\n",
              "      <th>Yearly Amount Spent</th>\n",
              "    </tr>\n",
              "  </thead>\n",
              "  <tbody>\n",
              "    <tr>\n",
              "      <th>325</th>\n",
              "      <td>rogersheather@hamilton-jensen.org</td>\n",
              "      <td>510 Michele Port\\nEast Angela, HI 23618</td>\n",
              "      <td>MintCream</td>\n",
              "      <td>33.785207</td>\n",
              "      <td>13.039511</td>\n",
              "      <td>36.312727</td>\n",
              "      <td>2.018195</td>\n",
              "      <td>447.187644</td>\n",
              "    </tr>\n",
              "    <tr>\n",
              "      <th>396</th>\n",
              "      <td>waltonkaren@gmail.com</td>\n",
              "      <td>355 Villegas Isle Apt. 070\\nWest Jenniferview,...</td>\n",
              "      <td>Green</td>\n",
              "      <td>35.742670</td>\n",
              "      <td>10.889828</td>\n",
              "      <td>35.565436</td>\n",
              "      <td>6.115199</td>\n",
              "      <td>669.987141</td>\n",
              "    </tr>\n",
              "    <tr>\n",
              "      <th>107</th>\n",
              "      <td>amandadean@gmail.com</td>\n",
              "      <td>66880 Mckinney Hills\\nMatthewchester, MH 88386</td>\n",
              "      <td>DimGray</td>\n",
              "      <td>32.063775</td>\n",
              "      <td>10.719150</td>\n",
              "      <td>37.712509</td>\n",
              "      <td>3.004743</td>\n",
              "      <td>378.330907</td>\n",
              "    </tr>\n",
              "    <tr>\n",
              "      <th>295</th>\n",
              "      <td>thomaswendy@yahoo.com</td>\n",
              "      <td>449 Amanda Tunnel\\nJoshuahaven, CO 15377</td>\n",
              "      <td>LavenderBlush</td>\n",
              "      <td>31.309193</td>\n",
              "      <td>11.947175</td>\n",
              "      <td>36.190833</td>\n",
              "      <td>3.205530</td>\n",
              "      <td>432.720718</td>\n",
              "    </tr>\n",
              "    <tr>\n",
              "      <th>152</th>\n",
              "      <td>dominguezjacob@hotmail.com</td>\n",
              "      <td>8594 Erica Manors Apt. 529\\nLake Miguel, MH 10...</td>\n",
              "      <td>CornflowerBlue</td>\n",
              "      <td>32.510218</td>\n",
              "      <td>10.984836</td>\n",
              "      <td>37.396497</td>\n",
              "      <td>5.391275</td>\n",
              "      <td>555.892595</td>\n",
              "    </tr>\n",
              "  </tbody>\n",
              "</table>\n",
              "</div>\n",
              "    <div class=\"colab-df-buttons\">\n",
              "\n",
              "  <div class=\"colab-df-container\">\n",
              "    <button class=\"colab-df-convert\" onclick=\"convertToInteractive('df-ba8fedb8-5f01-4353-a947-918cd701cac7')\"\n",
              "            title=\"Convert this dataframe to an interactive table.\"\n",
              "            style=\"display:none;\">\n",
              "\n",
              "  <svg xmlns=\"http://www.w3.org/2000/svg\" height=\"24px\" viewBox=\"0 -960 960 960\">\n",
              "    <path d=\"M120-120v-720h720v720H120Zm60-500h600v-160H180v160Zm220 220h160v-160H400v160Zm0 220h160v-160H400v160ZM180-400h160v-160H180v160Zm440 0h160v-160H620v160ZM180-180h160v-160H180v160Zm440 0h160v-160H620v160Z\"/>\n",
              "  </svg>\n",
              "    </button>\n",
              "\n",
              "  <style>\n",
              "    .colab-df-container {\n",
              "      display:flex;\n",
              "      gap: 12px;\n",
              "    }\n",
              "\n",
              "    .colab-df-convert {\n",
              "      background-color: #E8F0FE;\n",
              "      border: none;\n",
              "      border-radius: 50%;\n",
              "      cursor: pointer;\n",
              "      display: none;\n",
              "      fill: #1967D2;\n",
              "      height: 32px;\n",
              "      padding: 0 0 0 0;\n",
              "      width: 32px;\n",
              "    }\n",
              "\n",
              "    .colab-df-convert:hover {\n",
              "      background-color: #E2EBFA;\n",
              "      box-shadow: 0px 1px 2px rgba(60, 64, 67, 0.3), 0px 1px 3px 1px rgba(60, 64, 67, 0.15);\n",
              "      fill: #174EA6;\n",
              "    }\n",
              "\n",
              "    .colab-df-buttons div {\n",
              "      margin-bottom: 4px;\n",
              "    }\n",
              "\n",
              "    [theme=dark] .colab-df-convert {\n",
              "      background-color: #3B4455;\n",
              "      fill: #D2E3FC;\n",
              "    }\n",
              "\n",
              "    [theme=dark] .colab-df-convert:hover {\n",
              "      background-color: #434B5C;\n",
              "      box-shadow: 0px 1px 3px 1px rgba(0, 0, 0, 0.15);\n",
              "      filter: drop-shadow(0px 1px 2px rgba(0, 0, 0, 0.3));\n",
              "      fill: #FFFFFF;\n",
              "    }\n",
              "  </style>\n",
              "\n",
              "    <script>\n",
              "      const buttonEl =\n",
              "        document.querySelector('#df-ba8fedb8-5f01-4353-a947-918cd701cac7 button.colab-df-convert');\n",
              "      buttonEl.style.display =\n",
              "        google.colab.kernel.accessAllowed ? 'block' : 'none';\n",
              "\n",
              "      async function convertToInteractive(key) {\n",
              "        const element = document.querySelector('#df-ba8fedb8-5f01-4353-a947-918cd701cac7');\n",
              "        const dataTable =\n",
              "          await google.colab.kernel.invokeFunction('convertToInteractive',\n",
              "                                                    [key], {});\n",
              "        if (!dataTable) return;\n",
              "\n",
              "        const docLinkHtml = 'Like what you see? Visit the ' +\n",
              "          '<a target=\"_blank\" href=https://colab.research.google.com/notebooks/data_table.ipynb>data table notebook</a>'\n",
              "          + ' to learn more about interactive tables.';\n",
              "        element.innerHTML = '';\n",
              "        dataTable['output_type'] = 'display_data';\n",
              "        await google.colab.output.renderOutput(dataTable, element);\n",
              "        const docLink = document.createElement('div');\n",
              "        docLink.innerHTML = docLinkHtml;\n",
              "        element.appendChild(docLink);\n",
              "      }\n",
              "    </script>\n",
              "  </div>\n",
              "\n",
              "\n",
              "<div id=\"df-3f12d4f9-39d1-42d3-929d-e30eaa9ee2a4\">\n",
              "  <button class=\"colab-df-quickchart\" onclick=\"quickchart('df-3f12d4f9-39d1-42d3-929d-e30eaa9ee2a4')\"\n",
              "            title=\"Suggest charts\"\n",
              "            style=\"display:none;\">\n",
              "\n",
              "<svg xmlns=\"http://www.w3.org/2000/svg\" height=\"24px\"viewBox=\"0 0 24 24\"\n",
              "     width=\"24px\">\n",
              "    <g>\n",
              "        <path d=\"M19 3H5c-1.1 0-2 .9-2 2v14c0 1.1.9 2 2 2h14c1.1 0 2-.9 2-2V5c0-1.1-.9-2-2-2zM9 17H7v-7h2v7zm4 0h-2V7h2v10zm4 0h-2v-4h2v4z\"/>\n",
              "    </g>\n",
              "</svg>\n",
              "  </button>\n",
              "\n",
              "<style>\n",
              "  .colab-df-quickchart {\n",
              "      --bg-color: #E8F0FE;\n",
              "      --fill-color: #1967D2;\n",
              "      --hover-bg-color: #E2EBFA;\n",
              "      --hover-fill-color: #174EA6;\n",
              "      --disabled-fill-color: #AAA;\n",
              "      --disabled-bg-color: #DDD;\n",
              "  }\n",
              "\n",
              "  [theme=dark] .colab-df-quickchart {\n",
              "      --bg-color: #3B4455;\n",
              "      --fill-color: #D2E3FC;\n",
              "      --hover-bg-color: #434B5C;\n",
              "      --hover-fill-color: #FFFFFF;\n",
              "      --disabled-bg-color: #3B4455;\n",
              "      --disabled-fill-color: #666;\n",
              "  }\n",
              "\n",
              "  .colab-df-quickchart {\n",
              "    background-color: var(--bg-color);\n",
              "    border: none;\n",
              "    border-radius: 50%;\n",
              "    cursor: pointer;\n",
              "    display: none;\n",
              "    fill: var(--fill-color);\n",
              "    height: 32px;\n",
              "    padding: 0;\n",
              "    width: 32px;\n",
              "  }\n",
              "\n",
              "  .colab-df-quickchart:hover {\n",
              "    background-color: var(--hover-bg-color);\n",
              "    box-shadow: 0 1px 2px rgba(60, 64, 67, 0.3), 0 1px 3px 1px rgba(60, 64, 67, 0.15);\n",
              "    fill: var(--button-hover-fill-color);\n",
              "  }\n",
              "\n",
              "  .colab-df-quickchart-complete:disabled,\n",
              "  .colab-df-quickchart-complete:disabled:hover {\n",
              "    background-color: var(--disabled-bg-color);\n",
              "    fill: var(--disabled-fill-color);\n",
              "    box-shadow: none;\n",
              "  }\n",
              "\n",
              "  .colab-df-spinner {\n",
              "    border: 2px solid var(--fill-color);\n",
              "    border-color: transparent;\n",
              "    border-bottom-color: var(--fill-color);\n",
              "    animation:\n",
              "      spin 1s steps(1) infinite;\n",
              "  }\n",
              "\n",
              "  @keyframes spin {\n",
              "    0% {\n",
              "      border-color: transparent;\n",
              "      border-bottom-color: var(--fill-color);\n",
              "      border-left-color: var(--fill-color);\n",
              "    }\n",
              "    20% {\n",
              "      border-color: transparent;\n",
              "      border-left-color: var(--fill-color);\n",
              "      border-top-color: var(--fill-color);\n",
              "    }\n",
              "    30% {\n",
              "      border-color: transparent;\n",
              "      border-left-color: var(--fill-color);\n",
              "      border-top-color: var(--fill-color);\n",
              "      border-right-color: var(--fill-color);\n",
              "    }\n",
              "    40% {\n",
              "      border-color: transparent;\n",
              "      border-right-color: var(--fill-color);\n",
              "      border-top-color: var(--fill-color);\n",
              "    }\n",
              "    60% {\n",
              "      border-color: transparent;\n",
              "      border-right-color: var(--fill-color);\n",
              "    }\n",
              "    80% {\n",
              "      border-color: transparent;\n",
              "      border-right-color: var(--fill-color);\n",
              "      border-bottom-color: var(--fill-color);\n",
              "    }\n",
              "    90% {\n",
              "      border-color: transparent;\n",
              "      border-bottom-color: var(--fill-color);\n",
              "    }\n",
              "  }\n",
              "</style>\n",
              "\n",
              "  <script>\n",
              "    async function quickchart(key) {\n",
              "      const quickchartButtonEl =\n",
              "        document.querySelector('#' + key + ' button');\n",
              "      quickchartButtonEl.disabled = true;  // To prevent multiple clicks.\n",
              "      quickchartButtonEl.classList.add('colab-df-spinner');\n",
              "      try {\n",
              "        const charts = await google.colab.kernel.invokeFunction(\n",
              "            'suggestCharts', [key], {});\n",
              "      } catch (error) {\n",
              "        console.error('Error during call to suggestCharts:', error);\n",
              "      }\n",
              "      quickchartButtonEl.classList.remove('colab-df-spinner');\n",
              "      quickchartButtonEl.classList.add('colab-df-quickchart-complete');\n",
              "    }\n",
              "    (() => {\n",
              "      let quickchartButtonEl =\n",
              "        document.querySelector('#df-3f12d4f9-39d1-42d3-929d-e30eaa9ee2a4 button');\n",
              "      quickchartButtonEl.style.display =\n",
              "        google.colab.kernel.accessAllowed ? 'block' : 'none';\n",
              "    })();\n",
              "  </script>\n",
              "</div>\n",
              "\n",
              "    </div>\n",
              "  </div>\n"
            ],
            "application/vnd.google.colaboratory.intrinsic+json": {
              "type": "dataframe",
              "summary": "{\n  \"name\": \"df\",\n  \"rows\": 5,\n  \"fields\": [\n    {\n      \"column\": \"Email\",\n      \"properties\": {\n        \"dtype\": \"string\",\n        \"num_unique_values\": 5,\n        \"samples\": [\n          \"waltonkaren@gmail.com\",\n          \"dominguezjacob@hotmail.com\",\n          \"amandadean@gmail.com\"\n        ],\n        \"semantic_type\": \"\",\n        \"description\": \"\"\n      }\n    },\n    {\n      \"column\": \"Address\",\n      \"properties\": {\n        \"dtype\": \"string\",\n        \"num_unique_values\": 5,\n        \"samples\": [\n          \"355 Villegas Isle Apt. 070\\nWest Jenniferview, NM 26775-4339\",\n          \"8594 Erica Manors Apt. 529\\nLake Miguel, MH 10652-9266\",\n          \"66880 Mckinney Hills\\nMatthewchester, MH 88386\"\n        ],\n        \"semantic_type\": \"\",\n        \"description\": \"\"\n      }\n    },\n    {\n      \"column\": \"Avatar\",\n      \"properties\": {\n        \"dtype\": \"string\",\n        \"num_unique_values\": 5,\n        \"samples\": [\n          \"Green\",\n          \"CornflowerBlue\",\n          \"DimGray\"\n        ],\n        \"semantic_type\": \"\",\n        \"description\": \"\"\n      }\n    },\n    {\n      \"column\": \"Avg. Session Length\",\n      \"properties\": {\n        \"dtype\": \"number\",\n        \"std\": 1.7378310823372085,\n        \"min\": 31.309192640891823,\n        \"max\": 35.74266980593494,\n        \"num_unique_values\": 5,\n        \"samples\": [\n          35.74266980593494,\n          32.51021799444433,\n          32.0637746203137\n        ],\n        \"semantic_type\": \"\",\n        \"description\": \"\"\n      }\n    },\n    {\n      \"column\": \"Time on App\",\n      \"properties\": {\n        \"dtype\": \"number\",\n        \"std\": 0.9767541429132678,\n        \"min\": 10.719149740628396,\n        \"max\": 13.039511025284968,\n        \"num_unique_values\": 5,\n        \"samples\": [\n          10.889828283005029,\n          10.984835888186163,\n          10.719149740628396\n        ],\n        \"semantic_type\": \"\",\n        \"description\": \"\"\n      }\n    },\n    {\n      \"column\": \"Time on Website\",\n      \"properties\": {\n        \"dtype\": \"number\",\n        \"std\": 0.8924702219756049,\n        \"min\": 35.565436237139735,\n        \"max\": 37.71250863884946,\n        \"num_unique_values\": 5,\n        \"samples\": [\n          35.565436237139735,\n          37.396497475332055,\n          37.71250863884946\n        ],\n        \"semantic_type\": \"\",\n        \"description\": \"\"\n      }\n    },\n    {\n      \"column\": \"Length of Membership\",\n      \"properties\": {\n        \"dtype\": \"number\",\n        \"std\": 1.7280722425052404,\n        \"min\": 2.0181946292873114,\n        \"max\": 6.115198945760052,\n        \"num_unique_values\": 5,\n        \"samples\": [\n          6.115198945760052,\n          5.391275125020632,\n          3.004742535925674\n        ],\n        \"semantic_type\": \"\",\n        \"description\": \"\"\n      }\n    },\n    {\n      \"column\": \"Yearly Amount Spent\",\n      \"properties\": {\n        \"dtype\": \"number\",\n        \"std\": 116.28433244688556,\n        \"min\": 378.3309069068038,\n        \"max\": 669.9871405017029,\n        \"num_unique_values\": 5,\n        \"samples\": [\n          669.9871405017029,\n          555.8925953881737,\n          378.3309069068038\n        ],\n        \"semantic_type\": \"\",\n        \"description\": \"\"\n      }\n    }\n  ]\n}"
            }
          },
          "metadata": {},
          "execution_count": 2
        }
      ]
    },
    {
      "cell_type": "code",
      "source": [
        "# see the columns name\n",
        "df.columns"
      ],
      "metadata": {
        "colab": {
          "base_uri": "https://localhost:8080/"
        },
        "id": "1Jz1IJIEIZmu",
        "outputId": "4caf01b5-f6f4-40cf-f249-b34164dfae68"
      },
      "execution_count": 3,
      "outputs": [
        {
          "output_type": "execute_result",
          "data": {
            "text/plain": [
              "Index(['Email', 'Address', 'Avatar', 'Avg. Session Length', 'Time on App',\n",
              "       'Time on Website', 'Length of Membership', 'Yearly Amount Spent'],\n",
              "      dtype='object')"
            ]
          },
          "metadata": {},
          "execution_count": 3
        }
      ]
    },
    {
      "cell_type": "code",
      "source": [
        "# define feature and target\n",
        "X = df[['Avg. Session Length', 'Time on App', 'Time on Website', 'Length of Membership']]\n",
        "y = df[['Yearly Amount Spent']]"
      ],
      "metadata": {
        "id": "d8EXyHrRIezH"
      },
      "execution_count": 4,
      "outputs": []
    },
    {
      "cell_type": "code",
      "source": [
        "# Feature engineering - Preprocess feature and target\n",
        "from sklearn.preprocessing import StandardScaler\n",
        "\n",
        "# feature\n",
        "StdScaller = StandardScaler().set_output(transform='pandas')\n",
        "StdScaller.fit(X)\n",
        "X = StdScaller.transform(X)\n",
        "\n",
        "# target\n",
        "StdScaller1 = StandardScaler().set_output(transform='pandas')\n",
        "StdScaller1.fit(y)\n",
        "y = StdScaller1.transform(y)"
      ],
      "metadata": {
        "id": "nzyB-nirIpLb"
      },
      "execution_count": 5,
      "outputs": []
    },
    {
      "cell_type": "code",
      "source": [
        "# split train and test data\n",
        "from sklearn.model_selection import train_test_split\n",
        "X_train, X_test, y_train, y_test = train_test_split(X, y, test_size= 0.2, random_state=42)"
      ],
      "metadata": {
        "id": "1oUqQ1-_MD9K"
      },
      "execution_count": 6,
      "outputs": []
    },
    {
      "cell_type": "code",
      "source": [
        "# import packages - Sequential and Dense\n",
        "from tensorflow.keras.models import Sequential\n",
        "from tensorflow.keras.layers import Dense\n",
        "from tensorflow.keras.optimizers import Adam"
      ],
      "metadata": {
        "id": "f6k4JNX2MX3C"
      },
      "execution_count": 7,
      "outputs": []
    },
    {
      "cell_type": "code",
      "source": [
        "# Call the Model\n",
        "model = Sequential()\n"
      ],
      "metadata": {
        "id": "OoWvGURJMxVa"
      },
      "execution_count": 8,
      "outputs": []
    },
    {
      "cell_type": "code",
      "source": [
        "X_train.shape[1]"
      ],
      "metadata": {
        "colab": {
          "base_uri": "https://localhost:8080/"
        },
        "id": "aTjqJdooN7hu",
        "outputId": "2d56ec12-fa30-4f71-bda2-346c93a67ea5"
      },
      "execution_count": 9,
      "outputs": [
        {
          "output_type": "execute_result",
          "data": {
            "text/plain": [
              "4"
            ]
          },
          "metadata": {},
          "execution_count": 9
        }
      ]
    },
    {
      "cell_type": "code",
      "source": [
        "# Define Hidden Layers and target\n",
        "model.add(Dense(128, activation='relu', input_dim=X_train.shape[1]))\n",
        "# 128 1st hidden layer\n",
        "model.add(Dense(64, activation='relu'))\n",
        "# 64 2nd hidden layer\n",
        "model.add(Dense(32, activation='relu'))\n",
        "# 32 3rd hidden layer\n",
        "model.add(Dense(1, activation='linear'))\n",
        "# 1 target\n",
        "# Sigmoid for classification problem"
      ],
      "metadata": {
        "id": "lDO931GNNHmx"
      },
      "execution_count": 10,
      "outputs": []
    },
    {
      "cell_type": "code",
      "source": [
        "# get the no of parameter - ChatGPT4 1.75T\n",
        "model.summary()"
      ],
      "metadata": {
        "colab": {
          "base_uri": "https://localhost:8080/"
        },
        "id": "UgDutYtxNytW",
        "outputId": "82480c08-1080-4259-e251-0fd32a986dfa"
      },
      "execution_count": 11,
      "outputs": [
        {
          "output_type": "stream",
          "name": "stdout",
          "text": [
            "Model: \"sequential\"\n",
            "_________________________________________________________________\n",
            " Layer (type)                Output Shape              Param #   \n",
            "=================================================================\n",
            " dense (Dense)               (None, 128)               640       \n",
            "                                                                 \n",
            " dense_1 (Dense)             (None, 64)                8256      \n",
            "                                                                 \n",
            " dense_2 (Dense)             (None, 32)                2080      \n",
            "                                                                 \n",
            " dense_3 (Dense)             (None, 1)                 33        \n",
            "                                                                 \n",
            "=================================================================\n",
            "Total params: 11009 (43.00 KB)\n",
            "Trainable params: 11009 (43.00 KB)\n",
            "Non-trainable params: 0 (0.00 Byte)\n",
            "_________________________________________________________________\n"
          ]
        }
      ]
    },
    {
      "cell_type": "code",
      "source": [
        "# Use complie to reduce data leakage by giving metrics and loss\n",
        "model.compile(loss='mean_squared_error', optimizer=Adam(learning_rate=0.01), metrics=['mae'])"
      ],
      "metadata": {
        "id": "_vAn4RkFN1ru"
      },
      "execution_count": 12,
      "outputs": []
    },
    {
      "cell_type": "code",
      "source": [
        "# fit the model with epochs in trail and error method.\n",
        "# batch size 10 - 10 sample per batch\n",
        "# validation_split = 20% of data\n",
        "model.fit(X_train, y_train, epochs=50, batch_size=10, validation_split=0.20)"
      ],
      "metadata": {
        "colab": {
          "base_uri": "https://localhost:8080/"
        },
        "id": "lqPTuEQxQDdi",
        "outputId": "d2a987e2-9f75-4be0-b848-9ee07aa98343"
      },
      "execution_count": 13,
      "outputs": [
        {
          "output_type": "stream",
          "name": "stdout",
          "text": [
            "Epoch 1/50\n",
            "32/32 [==============================] - 1s 9ms/step - loss: 0.2206 - mae: 0.3440 - val_loss: 0.0693 - val_mae: 0.2123\n",
            "Epoch 2/50\n",
            "32/32 [==============================] - 0s 3ms/step - loss: 0.0283 - mae: 0.1330 - val_loss: 0.0293 - val_mae: 0.1438\n",
            "Epoch 3/50\n",
            "32/32 [==============================] - 0s 3ms/step - loss: 0.0186 - mae: 0.1056 - val_loss: 0.0252 - val_mae: 0.1352\n",
            "Epoch 4/50\n",
            "32/32 [==============================] - 0s 7ms/step - loss: 0.0195 - mae: 0.1095 - val_loss: 0.0204 - val_mae: 0.1171\n",
            "Epoch 5/50\n",
            "32/32 [==============================] - 0s 4ms/step - loss: 0.0399 - mae: 0.1443 - val_loss: 0.0449 - val_mae: 0.1758\n",
            "Epoch 6/50\n",
            "32/32 [==============================] - 0s 4ms/step - loss: 0.0326 - mae: 0.1397 - val_loss: 0.0259 - val_mae: 0.1362\n",
            "Epoch 7/50\n",
            "32/32 [==============================] - 0s 4ms/step - loss: 0.0250 - mae: 0.1231 - val_loss: 0.0383 - val_mae: 0.1642\n",
            "Epoch 8/50\n",
            "32/32 [==============================] - 0s 6ms/step - loss: 0.0355 - mae: 0.1421 - val_loss: 0.0356 - val_mae: 0.1518\n",
            "Epoch 9/50\n",
            "32/32 [==============================] - 0s 5ms/step - loss: 0.0190 - mae: 0.1082 - val_loss: 0.0225 - val_mae: 0.1223\n",
            "Epoch 10/50\n",
            "32/32 [==============================] - 0s 5ms/step - loss: 0.0170 - mae: 0.1022 - val_loss: 0.0195 - val_mae: 0.1131\n",
            "Epoch 11/50\n",
            "32/32 [==============================] - 0s 4ms/step - loss: 0.0226 - mae: 0.1157 - val_loss: 0.0271 - val_mae: 0.1360\n",
            "Epoch 12/50\n",
            "32/32 [==============================] - 0s 5ms/step - loss: 0.0262 - mae: 0.1220 - val_loss: 0.0363 - val_mae: 0.1594\n",
            "Epoch 13/50\n",
            "32/32 [==============================] - 0s 5ms/step - loss: 0.0238 - mae: 0.1180 - val_loss: 0.0263 - val_mae: 0.1342\n",
            "Epoch 14/50\n",
            "32/32 [==============================] - 0s 5ms/step - loss: 0.0159 - mae: 0.0974 - val_loss: 0.0174 - val_mae: 0.1063\n",
            "Epoch 15/50\n",
            "32/32 [==============================] - 0s 6ms/step - loss: 0.0138 - mae: 0.0892 - val_loss: 0.0222 - val_mae: 0.1189\n",
            "Epoch 16/50\n",
            "32/32 [==============================] - 0s 6ms/step - loss: 0.0165 - mae: 0.0998 - val_loss: 0.0231 - val_mae: 0.1200\n",
            "Epoch 17/50\n",
            "32/32 [==============================] - 0s 7ms/step - loss: 0.0167 - mae: 0.0993 - val_loss: 0.0227 - val_mae: 0.1270\n",
            "Epoch 18/50\n",
            "32/32 [==============================] - 0s 7ms/step - loss: 0.0219 - mae: 0.1090 - val_loss: 0.0294 - val_mae: 0.1417\n",
            "Epoch 19/50\n",
            "32/32 [==============================] - 0s 6ms/step - loss: 0.0231 - mae: 0.1151 - val_loss: 0.0311 - val_mae: 0.1426\n",
            "Epoch 20/50\n",
            "32/32 [==============================] - 0s 5ms/step - loss: 0.0184 - mae: 0.1052 - val_loss: 0.0186 - val_mae: 0.1092\n",
            "Epoch 21/50\n",
            "32/32 [==============================] - 0s 14ms/step - loss: 0.0182 - mae: 0.1050 - val_loss: 0.0296 - val_mae: 0.1424\n",
            "Epoch 22/50\n",
            "32/32 [==============================] - 0s 8ms/step - loss: 0.0265 - mae: 0.1221 - val_loss: 0.0433 - val_mae: 0.1617\n",
            "Epoch 23/50\n",
            "32/32 [==============================] - 0s 7ms/step - loss: 0.0220 - mae: 0.1162 - val_loss: 0.0277 - val_mae: 0.1413\n",
            "Epoch 24/50\n",
            "32/32 [==============================] - 0s 9ms/step - loss: 0.0167 - mae: 0.0998 - val_loss: 0.0346 - val_mae: 0.1406\n",
            "Epoch 25/50\n",
            "32/32 [==============================] - 0s 9ms/step - loss: 0.0196 - mae: 0.1062 - val_loss: 0.0194 - val_mae: 0.1127\n",
            "Epoch 26/50\n",
            "32/32 [==============================] - 0s 9ms/step - loss: 0.0157 - mae: 0.0984 - val_loss: 0.0183 - val_mae: 0.1110\n",
            "Epoch 27/50\n",
            "32/32 [==============================] - 0s 12ms/step - loss: 0.0154 - mae: 0.0999 - val_loss: 0.0208 - val_mae: 0.1154\n",
            "Epoch 28/50\n",
            "32/32 [==============================] - 0s 12ms/step - loss: 0.0158 - mae: 0.0981 - val_loss: 0.0168 - val_mae: 0.1025\n",
            "Epoch 29/50\n",
            "32/32 [==============================] - 0s 10ms/step - loss: 0.0154 - mae: 0.0960 - val_loss: 0.0285 - val_mae: 0.1360\n",
            "Epoch 30/50\n",
            "32/32 [==============================] - 0s 11ms/step - loss: 0.0157 - mae: 0.0972 - val_loss: 0.0280 - val_mae: 0.1363\n",
            "Epoch 31/50\n",
            "32/32 [==============================] - 0s 12ms/step - loss: 0.0199 - mae: 0.1096 - val_loss: 0.0210 - val_mae: 0.1183\n",
            "Epoch 32/50\n",
            "32/32 [==============================] - 0s 16ms/step - loss: 0.0235 - mae: 0.1176 - val_loss: 0.0312 - val_mae: 0.1447\n",
            "Epoch 33/50\n",
            "32/32 [==============================] - 0s 11ms/step - loss: 0.0188 - mae: 0.1068 - val_loss: 0.0387 - val_mae: 0.1597\n",
            "Epoch 34/50\n",
            "32/32 [==============================] - 0s 11ms/step - loss: 0.0235 - mae: 0.1123 - val_loss: 0.0565 - val_mae: 0.1960\n",
            "Epoch 35/50\n",
            "32/32 [==============================] - 0s 9ms/step - loss: 0.0217 - mae: 0.1132 - val_loss: 0.0255 - val_mae: 0.1284\n",
            "Epoch 36/50\n",
            "32/32 [==============================] - 0s 9ms/step - loss: 0.0154 - mae: 0.0949 - val_loss: 0.0289 - val_mae: 0.1378\n",
            "Epoch 37/50\n",
            "32/32 [==============================] - 0s 15ms/step - loss: 0.0187 - mae: 0.1068 - val_loss: 0.0245 - val_mae: 0.1286\n",
            "Epoch 38/50\n",
            "32/32 [==============================] - 0s 9ms/step - loss: 0.0144 - mae: 0.0921 - val_loss: 0.0184 - val_mae: 0.1055\n",
            "Epoch 39/50\n",
            "32/32 [==============================] - 0s 5ms/step - loss: 0.0161 - mae: 0.0967 - val_loss: 0.0212 - val_mae: 0.1173\n",
            "Epoch 40/50\n",
            "32/32 [==============================] - 0s 6ms/step - loss: 0.0123 - mae: 0.0871 - val_loss: 0.0210 - val_mae: 0.1115\n",
            "Epoch 41/50\n",
            "32/32 [==============================] - 0s 8ms/step - loss: 0.0178 - mae: 0.1005 - val_loss: 0.0308 - val_mae: 0.1473\n",
            "Epoch 42/50\n",
            "32/32 [==============================] - 0s 7ms/step - loss: 0.0191 - mae: 0.1069 - val_loss: 0.0247 - val_mae: 0.1289\n",
            "Epoch 43/50\n",
            "32/32 [==============================] - 0s 6ms/step - loss: 0.0179 - mae: 0.1037 - val_loss: 0.0197 - val_mae: 0.1144\n",
            "Epoch 44/50\n",
            "32/32 [==============================] - 0s 5ms/step - loss: 0.0141 - mae: 0.0926 - val_loss: 0.0398 - val_mae: 0.1625\n",
            "Epoch 45/50\n",
            "32/32 [==============================] - 0s 9ms/step - loss: 0.0259 - mae: 0.1269 - val_loss: 0.0436 - val_mae: 0.1661\n",
            "Epoch 46/50\n",
            "32/32 [==============================] - 0s 8ms/step - loss: 0.0378 - mae: 0.1388 - val_loss: 0.0249 - val_mae: 0.1342\n",
            "Epoch 47/50\n",
            "32/32 [==============================] - 0s 9ms/step - loss: 0.0263 - mae: 0.1222 - val_loss: 0.0219 - val_mae: 0.1188\n",
            "Epoch 48/50\n",
            "32/32 [==============================] - 0s 4ms/step - loss: 0.0200 - mae: 0.1059 - val_loss: 0.0279 - val_mae: 0.1353\n",
            "Epoch 49/50\n",
            "32/32 [==============================] - 0s 3ms/step - loss: 0.0131 - mae: 0.0895 - val_loss: 0.0209 - val_mae: 0.1167\n",
            "Epoch 50/50\n",
            "32/32 [==============================] - 0s 3ms/step - loss: 0.0118 - mae: 0.0848 - val_loss: 0.0269 - val_mae: 0.1299\n"
          ]
        },
        {
          "output_type": "execute_result",
          "data": {
            "text/plain": [
              "<keras.src.callbacks.History at 0x7896312e4430>"
            ]
          },
          "metadata": {},
          "execution_count": 13
        }
      ]
    },
    {
      "cell_type": "code",
      "source": [
        "# Predict the test data\n",
        "y_pred = model.predict(X_test)"
      ],
      "metadata": {
        "colab": {
          "base_uri": "https://localhost:8080/"
        },
        "id": "JJrxb2_GSiPQ",
        "outputId": "680867f9-5fbf-4bd4-bbcb-7c16de2de3b5"
      },
      "execution_count": 14,
      "outputs": [
        {
          "output_type": "stream",
          "name": "stdout",
          "text": [
            "4/4 [==============================] - 0s 4ms/step\n"
          ]
        }
      ]
    },
    {
      "cell_type": "code",
      "source": [
        "# Get the metrics\n",
        "from sklearn.metrics import mean_squared_error, r2_score, mean_absolute_error\n",
        "meanerror = mean_squared_error(y_test, y_pred)\n",
        "print(meanerror)\n",
        "meanabs = mean_absolute_error(y_test, y_pred)\n",
        "print(meanabs)"
      ],
      "metadata": {
        "colab": {
          "base_uri": "https://localhost:8080/"
        },
        "id": "fjWA-CScTQwX",
        "outputId": "0d9a5773-1016-4d19-e8a5-2a8c925e944f"
      },
      "execution_count": 15,
      "outputs": [
        {
          "output_type": "stream",
          "name": "stdout",
          "text": [
            "0.029341034067001136\n",
            "0.13416742015528207\n"
          ]
        }
      ]
    }
  ]
}
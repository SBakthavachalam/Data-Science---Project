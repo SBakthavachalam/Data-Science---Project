{
  "nbformat": 4,
  "nbformat_minor": 0,
  "metadata": {
    "colab": {
      "provenance": [],
      "authorship_tag": "ABX9TyMMHIlUNY59KIFh13TEDhrr",
      "include_colab_link": true
    },
    "kernelspec": {
      "name": "python3",
      "display_name": "Python 3"
    },
    "language_info": {
      "name": "python"
    }
  },
  "cells": [
    {
      "cell_type": "markdown",
      "metadata": {
        "id": "view-in-github",
        "colab_type": "text"
      },
      "source": [
        "<a href=\"https://colab.research.google.com/github/SBakthavachalam/Data-Science---Project/blob/main/Deep_Learning_ANN_Ecommerce_Data.ipynb\" target=\"_parent\"><img src=\"https://colab.research.google.com/assets/colab-badge.svg\" alt=\"Open In Colab\"/></a>"
      ]
    },
    {
      "cell_type": "code",
      "execution_count": 1,
      "metadata": {
        "id": "pzxzaqnjmn4I"
      },
      "outputs": [],
      "source": [
        "import pandas as pd"
      ]
    },
    {
      "cell_type": "code",
      "source": [
        "df = pd.read_csv('/content/Ecommerce Customers (2).csv')"
      ],
      "metadata": {
        "id": "uqeNB3DrmqFM"
      },
      "execution_count": 2,
      "outputs": []
    },
    {
      "cell_type": "code",
      "source": [
        "df.info()"
      ],
      "metadata": {
        "colab": {
          "base_uri": "https://localhost:8080/"
        },
        "id": "J8fAqCSdILDR",
        "outputId": "a1eecf06-c39c-476d-a41e-8a2a97d9bd45"
      },
      "execution_count": 3,
      "outputs": [
        {
          "output_type": "stream",
          "name": "stdout",
          "text": [
            "<class 'pandas.core.frame.DataFrame'>\n",
            "RangeIndex: 500 entries, 0 to 499\n",
            "Data columns (total 8 columns):\n",
            " #   Column                Non-Null Count  Dtype  \n",
            "---  ------                --------------  -----  \n",
            " 0   Email                 500 non-null    object \n",
            " 1   Address               500 non-null    object \n",
            " 2   Avatar                500 non-null    object \n",
            " 3   Avg. Session Length   500 non-null    float64\n",
            " 4   Time on App           500 non-null    float64\n",
            " 5   Time on Website       500 non-null    float64\n",
            " 6   Length of Membership  500 non-null    float64\n",
            " 7   Yearly Amount Spent   500 non-null    float64\n",
            "dtypes: float64(5), object(3)\n",
            "memory usage: 31.4+ KB\n"
          ]
        }
      ]
    },
    {
      "cell_type": "code",
      "source": [
        "df.sample(5)"
      ],
      "metadata": {
        "colab": {
          "base_uri": "https://localhost:8080/",
          "height": 310
        },
        "id": "dBrO_VNsIO1A",
        "outputId": "320ea426-2231-4f72-ec81-2e212046ac9e"
      },
      "execution_count": 4,
      "outputs": [
        {
          "output_type": "execute_result",
          "data": {
            "text/plain": [
              "                               Email  \\\n",
              "51   brenda82@maldonado-gonzalez.net   \n",
              "41             lisacabrera@yahoo.com   \n",
              "380          martinezleah@carter.com   \n",
              "43           hoovernicole@dorsey.net   \n",
              "280   carrillojacob@perry-larsen.com   \n",
              "\n",
              "                                               Address           Avatar  \\\n",
              "51           645 Elizabeth Pass\\nWilliamview, MS 51544  MediumVioletRed   \n",
              "41   9801 Thomas Pike Suite 058\\nBrandishire, AK 88...    DarkSlateBlue   \n",
              "380  8456 Joseph Locks Suite 926\\nChristopherport, ...        PaleGreen   \n",
              "43   69403 Hernandez Knolls\\nMarciashire, DE 36417-...         HoneyDew   \n",
              "280       909 Hicks Mountains\\nGabriellaport, MD 33121       Aquamarine   \n",
              "\n",
              "     Avg. Session Length  Time on App  Time on Website  Length of Membership  \\\n",
              "51             33.900224    10.956791        37.266878              2.952669   \n",
              "41             33.019548    10.634561        37.496690              4.646120   \n",
              "380            33.385990    12.782172        35.550772              3.228718   \n",
              "43             32.893981    11.529878        36.888086              4.643259   \n",
              "280            32.271848    13.485009        37.550880              3.086337   \n",
              "\n",
              "     Yearly Amount Spent  \n",
              "51            442.667252  \n",
              "41            501.874430  \n",
              "380           527.783790  \n",
              "43            547.244343  \n",
              "280           511.979860  "
            ],
            "text/html": [
              "\n",
              "  <div id=\"df-49061ddb-dee9-44e8-9831-ca3f34d9fbdd\" class=\"colab-df-container\">\n",
              "    <div>\n",
              "<style scoped>\n",
              "    .dataframe tbody tr th:only-of-type {\n",
              "        vertical-align: middle;\n",
              "    }\n",
              "\n",
              "    .dataframe tbody tr th {\n",
              "        vertical-align: top;\n",
              "    }\n",
              "\n",
              "    .dataframe thead th {\n",
              "        text-align: right;\n",
              "    }\n",
              "</style>\n",
              "<table border=\"1\" class=\"dataframe\">\n",
              "  <thead>\n",
              "    <tr style=\"text-align: right;\">\n",
              "      <th></th>\n",
              "      <th>Email</th>\n",
              "      <th>Address</th>\n",
              "      <th>Avatar</th>\n",
              "      <th>Avg. Session Length</th>\n",
              "      <th>Time on App</th>\n",
              "      <th>Time on Website</th>\n",
              "      <th>Length of Membership</th>\n",
              "      <th>Yearly Amount Spent</th>\n",
              "    </tr>\n",
              "  </thead>\n",
              "  <tbody>\n",
              "    <tr>\n",
              "      <th>51</th>\n",
              "      <td>brenda82@maldonado-gonzalez.net</td>\n",
              "      <td>645 Elizabeth Pass\\nWilliamview, MS 51544</td>\n",
              "      <td>MediumVioletRed</td>\n",
              "      <td>33.900224</td>\n",
              "      <td>10.956791</td>\n",
              "      <td>37.266878</td>\n",
              "      <td>2.952669</td>\n",
              "      <td>442.667252</td>\n",
              "    </tr>\n",
              "    <tr>\n",
              "      <th>41</th>\n",
              "      <td>lisacabrera@yahoo.com</td>\n",
              "      <td>9801 Thomas Pike Suite 058\\nBrandishire, AK 88...</td>\n",
              "      <td>DarkSlateBlue</td>\n",
              "      <td>33.019548</td>\n",
              "      <td>10.634561</td>\n",
              "      <td>37.496690</td>\n",
              "      <td>4.646120</td>\n",
              "      <td>501.874430</td>\n",
              "    </tr>\n",
              "    <tr>\n",
              "      <th>380</th>\n",
              "      <td>martinezleah@carter.com</td>\n",
              "      <td>8456 Joseph Locks Suite 926\\nChristopherport, ...</td>\n",
              "      <td>PaleGreen</td>\n",
              "      <td>33.385990</td>\n",
              "      <td>12.782172</td>\n",
              "      <td>35.550772</td>\n",
              "      <td>3.228718</td>\n",
              "      <td>527.783790</td>\n",
              "    </tr>\n",
              "    <tr>\n",
              "      <th>43</th>\n",
              "      <td>hoovernicole@dorsey.net</td>\n",
              "      <td>69403 Hernandez Knolls\\nMarciashire, DE 36417-...</td>\n",
              "      <td>HoneyDew</td>\n",
              "      <td>32.893981</td>\n",
              "      <td>11.529878</td>\n",
              "      <td>36.888086</td>\n",
              "      <td>4.643259</td>\n",
              "      <td>547.244343</td>\n",
              "    </tr>\n",
              "    <tr>\n",
              "      <th>280</th>\n",
              "      <td>carrillojacob@perry-larsen.com</td>\n",
              "      <td>909 Hicks Mountains\\nGabriellaport, MD 33121</td>\n",
              "      <td>Aquamarine</td>\n",
              "      <td>32.271848</td>\n",
              "      <td>13.485009</td>\n",
              "      <td>37.550880</td>\n",
              "      <td>3.086337</td>\n",
              "      <td>511.979860</td>\n",
              "    </tr>\n",
              "  </tbody>\n",
              "</table>\n",
              "</div>\n",
              "    <div class=\"colab-df-buttons\">\n",
              "\n",
              "  <div class=\"colab-df-container\">\n",
              "    <button class=\"colab-df-convert\" onclick=\"convertToInteractive('df-49061ddb-dee9-44e8-9831-ca3f34d9fbdd')\"\n",
              "            title=\"Convert this dataframe to an interactive table.\"\n",
              "            style=\"display:none;\">\n",
              "\n",
              "  <svg xmlns=\"http://www.w3.org/2000/svg\" height=\"24px\" viewBox=\"0 -960 960 960\">\n",
              "    <path d=\"M120-120v-720h720v720H120Zm60-500h600v-160H180v160Zm220 220h160v-160H400v160Zm0 220h160v-160H400v160ZM180-400h160v-160H180v160Zm440 0h160v-160H620v160ZM180-180h160v-160H180v160Zm440 0h160v-160H620v160Z\"/>\n",
              "  </svg>\n",
              "    </button>\n",
              "\n",
              "  <style>\n",
              "    .colab-df-container {\n",
              "      display:flex;\n",
              "      gap: 12px;\n",
              "    }\n",
              "\n",
              "    .colab-df-convert {\n",
              "      background-color: #E8F0FE;\n",
              "      border: none;\n",
              "      border-radius: 50%;\n",
              "      cursor: pointer;\n",
              "      display: none;\n",
              "      fill: #1967D2;\n",
              "      height: 32px;\n",
              "      padding: 0 0 0 0;\n",
              "      width: 32px;\n",
              "    }\n",
              "\n",
              "    .colab-df-convert:hover {\n",
              "      background-color: #E2EBFA;\n",
              "      box-shadow: 0px 1px 2px rgba(60, 64, 67, 0.3), 0px 1px 3px 1px rgba(60, 64, 67, 0.15);\n",
              "      fill: #174EA6;\n",
              "    }\n",
              "\n",
              "    .colab-df-buttons div {\n",
              "      margin-bottom: 4px;\n",
              "    }\n",
              "\n",
              "    [theme=dark] .colab-df-convert {\n",
              "      background-color: #3B4455;\n",
              "      fill: #D2E3FC;\n",
              "    }\n",
              "\n",
              "    [theme=dark] .colab-df-convert:hover {\n",
              "      background-color: #434B5C;\n",
              "      box-shadow: 0px 1px 3px 1px rgba(0, 0, 0, 0.15);\n",
              "      filter: drop-shadow(0px 1px 2px rgba(0, 0, 0, 0.3));\n",
              "      fill: #FFFFFF;\n",
              "    }\n",
              "  </style>\n",
              "\n",
              "    <script>\n",
              "      const buttonEl =\n",
              "        document.querySelector('#df-49061ddb-dee9-44e8-9831-ca3f34d9fbdd button.colab-df-convert');\n",
              "      buttonEl.style.display =\n",
              "        google.colab.kernel.accessAllowed ? 'block' : 'none';\n",
              "\n",
              "      async function convertToInteractive(key) {\n",
              "        const element = document.querySelector('#df-49061ddb-dee9-44e8-9831-ca3f34d9fbdd');\n",
              "        const dataTable =\n",
              "          await google.colab.kernel.invokeFunction('convertToInteractive',\n",
              "                                                    [key], {});\n",
              "        if (!dataTable) return;\n",
              "\n",
              "        const docLinkHtml = 'Like what you see? Visit the ' +\n",
              "          '<a target=\"_blank\" href=https://colab.research.google.com/notebooks/data_table.ipynb>data table notebook</a>'\n",
              "          + ' to learn more about interactive tables.';\n",
              "        element.innerHTML = '';\n",
              "        dataTable['output_type'] = 'display_data';\n",
              "        await google.colab.output.renderOutput(dataTable, element);\n",
              "        const docLink = document.createElement('div');\n",
              "        docLink.innerHTML = docLinkHtml;\n",
              "        element.appendChild(docLink);\n",
              "      }\n",
              "    </script>\n",
              "  </div>\n",
              "\n",
              "\n",
              "<div id=\"df-c8260564-f142-4066-9a6f-fd2a198c7fdc\">\n",
              "  <button class=\"colab-df-quickchart\" onclick=\"quickchart('df-c8260564-f142-4066-9a6f-fd2a198c7fdc')\"\n",
              "            title=\"Suggest charts\"\n",
              "            style=\"display:none;\">\n",
              "\n",
              "<svg xmlns=\"http://www.w3.org/2000/svg\" height=\"24px\"viewBox=\"0 0 24 24\"\n",
              "     width=\"24px\">\n",
              "    <g>\n",
              "        <path d=\"M19 3H5c-1.1 0-2 .9-2 2v14c0 1.1.9 2 2 2h14c1.1 0 2-.9 2-2V5c0-1.1-.9-2-2-2zM9 17H7v-7h2v7zm4 0h-2V7h2v10zm4 0h-2v-4h2v4z\"/>\n",
              "    </g>\n",
              "</svg>\n",
              "  </button>\n",
              "\n",
              "<style>\n",
              "  .colab-df-quickchart {\n",
              "      --bg-color: #E8F0FE;\n",
              "      --fill-color: #1967D2;\n",
              "      --hover-bg-color: #E2EBFA;\n",
              "      --hover-fill-color: #174EA6;\n",
              "      --disabled-fill-color: #AAA;\n",
              "      --disabled-bg-color: #DDD;\n",
              "  }\n",
              "\n",
              "  [theme=dark] .colab-df-quickchart {\n",
              "      --bg-color: #3B4455;\n",
              "      --fill-color: #D2E3FC;\n",
              "      --hover-bg-color: #434B5C;\n",
              "      --hover-fill-color: #FFFFFF;\n",
              "      --disabled-bg-color: #3B4455;\n",
              "      --disabled-fill-color: #666;\n",
              "  }\n",
              "\n",
              "  .colab-df-quickchart {\n",
              "    background-color: var(--bg-color);\n",
              "    border: none;\n",
              "    border-radius: 50%;\n",
              "    cursor: pointer;\n",
              "    display: none;\n",
              "    fill: var(--fill-color);\n",
              "    height: 32px;\n",
              "    padding: 0;\n",
              "    width: 32px;\n",
              "  }\n",
              "\n",
              "  .colab-df-quickchart:hover {\n",
              "    background-color: var(--hover-bg-color);\n",
              "    box-shadow: 0 1px 2px rgba(60, 64, 67, 0.3), 0 1px 3px 1px rgba(60, 64, 67, 0.15);\n",
              "    fill: var(--button-hover-fill-color);\n",
              "  }\n",
              "\n",
              "  .colab-df-quickchart-complete:disabled,\n",
              "  .colab-df-quickchart-complete:disabled:hover {\n",
              "    background-color: var(--disabled-bg-color);\n",
              "    fill: var(--disabled-fill-color);\n",
              "    box-shadow: none;\n",
              "  }\n",
              "\n",
              "  .colab-df-spinner {\n",
              "    border: 2px solid var(--fill-color);\n",
              "    border-color: transparent;\n",
              "    border-bottom-color: var(--fill-color);\n",
              "    animation:\n",
              "      spin 1s steps(1) infinite;\n",
              "  }\n",
              "\n",
              "  @keyframes spin {\n",
              "    0% {\n",
              "      border-color: transparent;\n",
              "      border-bottom-color: var(--fill-color);\n",
              "      border-left-color: var(--fill-color);\n",
              "    }\n",
              "    20% {\n",
              "      border-color: transparent;\n",
              "      border-left-color: var(--fill-color);\n",
              "      border-top-color: var(--fill-color);\n",
              "    }\n",
              "    30% {\n",
              "      border-color: transparent;\n",
              "      border-left-color: var(--fill-color);\n",
              "      border-top-color: var(--fill-color);\n",
              "      border-right-color: var(--fill-color);\n",
              "    }\n",
              "    40% {\n",
              "      border-color: transparent;\n",
              "      border-right-color: var(--fill-color);\n",
              "      border-top-color: var(--fill-color);\n",
              "    }\n",
              "    60% {\n",
              "      border-color: transparent;\n",
              "      border-right-color: var(--fill-color);\n",
              "    }\n",
              "    80% {\n",
              "      border-color: transparent;\n",
              "      border-right-color: var(--fill-color);\n",
              "      border-bottom-color: var(--fill-color);\n",
              "    }\n",
              "    90% {\n",
              "      border-color: transparent;\n",
              "      border-bottom-color: var(--fill-color);\n",
              "    }\n",
              "  }\n",
              "</style>\n",
              "\n",
              "  <script>\n",
              "    async function quickchart(key) {\n",
              "      const quickchartButtonEl =\n",
              "        document.querySelector('#' + key + ' button');\n",
              "      quickchartButtonEl.disabled = true;  // To prevent multiple clicks.\n",
              "      quickchartButtonEl.classList.add('colab-df-spinner');\n",
              "      try {\n",
              "        const charts = await google.colab.kernel.invokeFunction(\n",
              "            'suggestCharts', [key], {});\n",
              "      } catch (error) {\n",
              "        console.error('Error during call to suggestCharts:', error);\n",
              "      }\n",
              "      quickchartButtonEl.classList.remove('colab-df-spinner');\n",
              "      quickchartButtonEl.classList.add('colab-df-quickchart-complete');\n",
              "    }\n",
              "    (() => {\n",
              "      let quickchartButtonEl =\n",
              "        document.querySelector('#df-c8260564-f142-4066-9a6f-fd2a198c7fdc button');\n",
              "      quickchartButtonEl.style.display =\n",
              "        google.colab.kernel.accessAllowed ? 'block' : 'none';\n",
              "    })();\n",
              "  </script>\n",
              "</div>\n",
              "\n",
              "    </div>\n",
              "  </div>\n"
            ],
            "application/vnd.google.colaboratory.intrinsic+json": {
              "type": "dataframe",
              "summary": "{\n  \"name\": \"df\",\n  \"rows\": 5,\n  \"fields\": [\n    {\n      \"column\": \"Email\",\n      \"properties\": {\n        \"dtype\": \"string\",\n        \"num_unique_values\": 5,\n        \"samples\": [\n          \"lisacabrera@yahoo.com\",\n          \"carrillojacob@perry-larsen.com\",\n          \"martinezleah@carter.com\"\n        ],\n        \"semantic_type\": \"\",\n        \"description\": \"\"\n      }\n    },\n    {\n      \"column\": \"Address\",\n      \"properties\": {\n        \"dtype\": \"string\",\n        \"num_unique_values\": 5,\n        \"samples\": [\n          \"9801 Thomas Pike Suite 058\\nBrandishire, AK 88122-1314\",\n          \"909 Hicks Mountains\\nGabriellaport, MD 33121\",\n          \"8456 Joseph Locks Suite 926\\nChristopherport, TN 57784\"\n        ],\n        \"semantic_type\": \"\",\n        \"description\": \"\"\n      }\n    },\n    {\n      \"column\": \"Avatar\",\n      \"properties\": {\n        \"dtype\": \"string\",\n        \"num_unique_values\": 5,\n        \"samples\": [\n          \"DarkSlateBlue\",\n          \"Aquamarine\",\n          \"PaleGreen\"\n        ],\n        \"semantic_type\": \"\",\n        \"description\": \"\"\n      }\n    },\n    {\n      \"column\": \"Avg. Session Length\",\n      \"properties\": {\n        \"dtype\": \"number\",\n        \"std\": 0.6034773968471436,\n        \"min\": 32.27184828087499,\n        \"max\": 33.90022441401576,\n        \"num_unique_values\": 5,\n        \"samples\": [\n          33.01954798572344,\n          32.27184828087499,\n          33.38599019075222\n        ],\n        \"semantic_type\": \"\",\n        \"description\": \"\"\n      }\n    },\n    {\n      \"column\": \"Time on App\",\n      \"properties\": {\n        \"dtype\": \"number\",\n        \"std\": 1.2161371877923826,\n        \"min\": 10.634561317920278,\n        \"max\": 13.485008988077055,\n        \"num_unique_values\": 5,\n        \"samples\": [\n          10.634561317920278,\n          13.485008988077055,\n          12.782171794760185\n        ],\n        \"semantic_type\": \"\",\n        \"description\": \"\"\n      }\n    },\n    {\n      \"column\": \"Time on Website\",\n      \"properties\": {\n        \"dtype\": \"number\",\n        \"std\": 0.8249255445461307,\n        \"min\": 35.55077226680613,\n        \"max\": 37.55088041321525,\n        \"num_unique_values\": 5,\n        \"samples\": [\n          37.49669014561275,\n          37.55088041321525,\n          35.55077226680613\n        ],\n        \"semantic_type\": \"\",\n        \"description\": \"\"\n      }\n    },\n    {\n      \"column\": \"Length of Membership\",\n      \"properties\": {\n        \"dtype\": \"number\",\n        \"std\": 0.8575284562540331,\n        \"min\": 2.952668957921736,\n        \"max\": 4.646119976606155,\n        \"num_unique_values\": 5,\n        \"samples\": [\n          4.646119976606155,\n          3.086337272317325,\n          3.2287176862706497\n        ],\n        \"semantic_type\": \"\",\n        \"description\": \"\"\n      }\n    },\n    {\n      \"column\": \"Yearly Amount Spent\",\n      \"properties\": {\n        \"dtype\": \"number\",\n        \"std\": 39.49355996462702,\n        \"min\": 442.667251738628,\n        \"max\": 547.2443434159983,\n        \"num_unique_values\": 5,\n        \"samples\": [\n          501.8744302842695,\n          511.9798599920658,\n          527.7837897574573\n        ],\n        \"semantic_type\": \"\",\n        \"description\": \"\"\n      }\n    }\n  ]\n}"
            }
          },
          "metadata": {},
          "execution_count": 4
        }
      ]
    },
    {
      "cell_type": "code",
      "source": [
        "df.columns"
      ],
      "metadata": {
        "colab": {
          "base_uri": "https://localhost:8080/"
        },
        "id": "1Jz1IJIEIZmu",
        "outputId": "a7edd9e9-8e79-4325-e62a-6b280b51e4ae"
      },
      "execution_count": 5,
      "outputs": [
        {
          "output_type": "execute_result",
          "data": {
            "text/plain": [
              "Index(['Email', 'Address', 'Avatar', 'Avg. Session Length', 'Time on App',\n",
              "       'Time on Website', 'Length of Membership', 'Yearly Amount Spent'],\n",
              "      dtype='object')"
            ]
          },
          "metadata": {},
          "execution_count": 5
        }
      ]
    },
    {
      "cell_type": "code",
      "source": [
        "X = df[['Avg. Session Length', 'Time on App', 'Time on Website', 'Length of Membership']]\n",
        "y = df[['Yearly Amount Spent']]"
      ],
      "metadata": {
        "id": "d8EXyHrRIezH"
      },
      "execution_count": 6,
      "outputs": []
    },
    {
      "cell_type": "code",
      "source": [
        "from sklearn.preprocessing import StandardScaler\n",
        "StdScaller = StandardScaler().set_output(transform='pandas')\n",
        "StdScaller.fit(X)\n",
        "X = StdScaller.transform(X)\n",
        "\n",
        "StdScaller1 = StandardScaler().set_output(transform='pandas')\n",
        "StdScaller1.fit(y)\n",
        "y = StdScaller1.transform(y)"
      ],
      "metadata": {
        "id": "nzyB-nirIpLb"
      },
      "execution_count": 7,
      "outputs": []
    },
    {
      "cell_type": "code",
      "source": [],
      "metadata": {
        "id": "tajFc0CpYWdx"
      },
      "execution_count": 7,
      "outputs": []
    },
    {
      "cell_type": "code",
      "source": [
        "from sklearn.model_selection import train_test_split\n",
        "X_train, X_test, y_train, y_test = train_test_split(X, y, test_size= 0.2, random_state=42)"
      ],
      "metadata": {
        "id": "1oUqQ1-_MD9K"
      },
      "execution_count": 8,
      "outputs": []
    },
    {
      "cell_type": "code",
      "source": [
        "from tensorflow.keras.models import Sequential\n",
        "from tensorflow.keras.layers import Dense\n",
        "from tensorflow.keras.optimizers import Adam"
      ],
      "metadata": {
        "id": "f6k4JNX2MX3C"
      },
      "execution_count": 9,
      "outputs": []
    },
    {
      "cell_type": "code",
      "source": [
        "model = Sequential()"
      ],
      "metadata": {
        "id": "OoWvGURJMxVa"
      },
      "execution_count": 10,
      "outputs": []
    },
    {
      "cell_type": "code",
      "source": [
        "X_train.shape[1]"
      ],
      "metadata": {
        "colab": {
          "base_uri": "https://localhost:8080/"
        },
        "id": "aTjqJdooN7hu",
        "outputId": "dc720834-84ae-413b-8950-e9a8e42625e0"
      },
      "execution_count": 11,
      "outputs": [
        {
          "output_type": "execute_result",
          "data": {
            "text/plain": [
              "4"
            ]
          },
          "metadata": {},
          "execution_count": 11
        }
      ]
    },
    {
      "cell_type": "code",
      "source": [
        "model.add(Dense(128, activation='relu', input_dim=X_train.shape[1]))\n",
        "# 128 1st hidden layer\n",
        "model.add(Dense(64, activation='relu'))\n",
        "# 64 2nd hidden layer\n",
        "model.add(Dense(32, activation='relu'))\n",
        "# 32 3rd hidden layer\n",
        "model.add(Dense(1, activation='linear'))\n",
        "# 1 target\n",
        "# Sigmoid for classification problem"
      ],
      "metadata": {
        "id": "lDO931GNNHmx"
      },
      "execution_count": 12,
      "outputs": []
    },
    {
      "cell_type": "code",
      "source": [
        "model.summary()"
      ],
      "metadata": {
        "colab": {
          "base_uri": "https://localhost:8080/"
        },
        "id": "UgDutYtxNytW",
        "outputId": "a59cb604-a377-4a56-bca2-a0d42494c952"
      },
      "execution_count": 13,
      "outputs": [
        {
          "output_type": "stream",
          "name": "stdout",
          "text": [
            "Model: \"sequential\"\n",
            "_________________________________________________________________\n",
            " Layer (type)                Output Shape              Param #   \n",
            "=================================================================\n",
            " dense (Dense)               (None, 128)               640       \n",
            "                                                                 \n",
            " dense_1 (Dense)             (None, 64)                8256      \n",
            "                                                                 \n",
            " dense_2 (Dense)             (None, 32)                2080      \n",
            "                                                                 \n",
            " dense_3 (Dense)             (None, 1)                 33        \n",
            "                                                                 \n",
            "=================================================================\n",
            "Total params: 11009 (43.00 KB)\n",
            "Trainable params: 11009 (43.00 KB)\n",
            "Non-trainable params: 0 (0.00 Byte)\n",
            "_________________________________________________________________\n"
          ]
        }
      ]
    },
    {
      "cell_type": "code",
      "source": [
        "model.compile(loss='mean_squared_error', optimizer=Adam(learning_rate=0.01), metrics=['mae'])"
      ],
      "metadata": {
        "id": "_vAn4RkFN1ru"
      },
      "execution_count": 14,
      "outputs": []
    },
    {
      "cell_type": "code",
      "source": [
        "model.fit(X_train, y_train, epochs=50, batch_size=10, validation_split=0.20)"
      ],
      "metadata": {
        "colab": {
          "base_uri": "https://localhost:8080/"
        },
        "id": "lqPTuEQxQDdi",
        "outputId": "a053686e-1e09-4794-e33f-22e1def5c529"
      },
      "execution_count": 15,
      "outputs": [
        {
          "output_type": "stream",
          "name": "stdout",
          "text": [
            "Epoch 1/50\n",
            "32/32 [==============================] - 2s 29ms/step - loss: 0.1713 - mae: 0.2805 - val_loss: 0.1608 - val_mae: 0.3049\n",
            "Epoch 2/50\n",
            "32/32 [==============================] - 0s 10ms/step - loss: 0.0419 - mae: 0.1602 - val_loss: 0.0259 - val_mae: 0.1266\n",
            "Epoch 3/50\n",
            "32/32 [==============================] - 0s 13ms/step - loss: 0.0249 - mae: 0.1241 - val_loss: 0.0366 - val_mae: 0.1625\n",
            "Epoch 4/50\n",
            "32/32 [==============================] - 0s 10ms/step - loss: 0.0240 - mae: 0.1206 - val_loss: 0.0326 - val_mae: 0.1504\n",
            "Epoch 5/50\n",
            "32/32 [==============================] - 0s 12ms/step - loss: 0.0214 - mae: 0.1141 - val_loss: 0.0181 - val_mae: 0.1085\n",
            "Epoch 6/50\n",
            "32/32 [==============================] - 0s 9ms/step - loss: 0.0297 - mae: 0.1267 - val_loss: 0.0349 - val_mae: 0.1486\n",
            "Epoch 7/50\n",
            "32/32 [==============================] - 0s 9ms/step - loss: 0.0341 - mae: 0.1410 - val_loss: 0.0291 - val_mae: 0.1402\n",
            "Epoch 8/50\n",
            "32/32 [==============================] - 0s 10ms/step - loss: 0.0297 - mae: 0.1297 - val_loss: 0.0399 - val_mae: 0.1636\n",
            "Epoch 9/50\n",
            "32/32 [==============================] - 0s 8ms/step - loss: 0.0320 - mae: 0.1374 - val_loss: 0.0262 - val_mae: 0.1297\n",
            "Epoch 10/50\n",
            "32/32 [==============================] - 0s 11ms/step - loss: 0.0203 - mae: 0.1115 - val_loss: 0.0243 - val_mae: 0.1296\n",
            "Epoch 11/50\n",
            "32/32 [==============================] - 0s 7ms/step - loss: 0.0188 - mae: 0.1045 - val_loss: 0.0198 - val_mae: 0.1136\n",
            "Epoch 12/50\n",
            "32/32 [==============================] - 0s 10ms/step - loss: 0.0222 - mae: 0.1156 - val_loss: 0.0264 - val_mae: 0.1365\n",
            "Epoch 13/50\n",
            "32/32 [==============================] - 0s 8ms/step - loss: 0.0234 - mae: 0.1178 - val_loss: 0.0306 - val_mae: 0.1448\n",
            "Epoch 14/50\n",
            "32/32 [==============================] - 0s 10ms/step - loss: 0.0208 - mae: 0.1114 - val_loss: 0.0296 - val_mae: 0.1442\n",
            "Epoch 15/50\n",
            "32/32 [==============================] - 0s 12ms/step - loss: 0.0198 - mae: 0.1049 - val_loss: 0.0199 - val_mae: 0.1136\n",
            "Epoch 16/50\n",
            "32/32 [==============================] - 0s 10ms/step - loss: 0.0197 - mae: 0.1105 - val_loss: 0.0273 - val_mae: 0.1320\n",
            "Epoch 17/50\n",
            "32/32 [==============================] - 0s 9ms/step - loss: 0.0209 - mae: 0.1099 - val_loss: 0.0537 - val_mae: 0.1931\n",
            "Epoch 18/50\n",
            "32/32 [==============================] - 0s 7ms/step - loss: 0.0259 - mae: 0.1206 - val_loss: 0.0259 - val_mae: 0.1273\n",
            "Epoch 19/50\n",
            "32/32 [==============================] - 0s 6ms/step - loss: 0.0172 - mae: 0.1024 - val_loss: 0.0217 - val_mae: 0.1152\n",
            "Epoch 20/50\n",
            "32/32 [==============================] - 0s 5ms/step - loss: 0.0144 - mae: 0.0953 - val_loss: 0.0192 - val_mae: 0.1141\n",
            "Epoch 21/50\n",
            "32/32 [==============================] - 0s 5ms/step - loss: 0.0245 - mae: 0.1187 - val_loss: 0.0263 - val_mae: 0.1290\n",
            "Epoch 22/50\n",
            "32/32 [==============================] - 0s 4ms/step - loss: 0.0193 - mae: 0.1099 - val_loss: 0.0258 - val_mae: 0.1323\n",
            "Epoch 23/50\n",
            "32/32 [==============================] - 0s 5ms/step - loss: 0.0164 - mae: 0.0969 - val_loss: 0.0199 - val_mae: 0.1128\n",
            "Epoch 24/50\n",
            "32/32 [==============================] - 0s 4ms/step - loss: 0.0254 - mae: 0.1183 - val_loss: 0.1345 - val_mae: 0.2846\n",
            "Epoch 25/50\n",
            "32/32 [==============================] - 0s 7ms/step - loss: 0.0309 - mae: 0.1249 - val_loss: 0.0270 - val_mae: 0.1380\n",
            "Epoch 26/50\n",
            "32/32 [==============================] - 0s 7ms/step - loss: 0.0174 - mae: 0.1013 - val_loss: 0.0259 - val_mae: 0.1364\n",
            "Epoch 27/50\n",
            "32/32 [==============================] - 0s 5ms/step - loss: 0.0222 - mae: 0.1177 - val_loss: 0.0259 - val_mae: 0.1307\n",
            "Epoch 28/50\n",
            "32/32 [==============================] - 0s 4ms/step - loss: 0.0192 - mae: 0.1083 - val_loss: 0.0218 - val_mae: 0.1172\n",
            "Epoch 29/50\n",
            "32/32 [==============================] - 0s 5ms/step - loss: 0.0195 - mae: 0.1098 - val_loss: 0.0255 - val_mae: 0.1349\n",
            "Epoch 30/50\n",
            "32/32 [==============================] - 0s 6ms/step - loss: 0.0171 - mae: 0.0997 - val_loss: 0.0275 - val_mae: 0.1386\n",
            "Epoch 31/50\n",
            "32/32 [==============================] - 0s 7ms/step - loss: 0.0138 - mae: 0.0918 - val_loss: 0.0223 - val_mae: 0.1246\n",
            "Epoch 32/50\n",
            "32/32 [==============================] - 0s 5ms/step - loss: 0.0133 - mae: 0.0904 - val_loss: 0.0240 - val_mae: 0.1250\n",
            "Epoch 33/50\n",
            "32/32 [==============================] - 0s 8ms/step - loss: 0.0162 - mae: 0.0964 - val_loss: 0.0293 - val_mae: 0.1393\n",
            "Epoch 34/50\n",
            "32/32 [==============================] - 0s 7ms/step - loss: 0.0150 - mae: 0.0953 - val_loss: 0.0261 - val_mae: 0.1335\n",
            "Epoch 35/50\n",
            "32/32 [==============================] - 0s 7ms/step - loss: 0.0226 - mae: 0.1138 - val_loss: 0.0352 - val_mae: 0.1435\n",
            "Epoch 36/50\n",
            "32/32 [==============================] - 0s 7ms/step - loss: 0.0450 - mae: 0.1551 - val_loss: 0.0273 - val_mae: 0.1325\n",
            "Epoch 37/50\n",
            "32/32 [==============================] - 0s 5ms/step - loss: 0.0266 - mae: 0.1249 - val_loss: 0.0264 - val_mae: 0.1316\n",
            "Epoch 38/50\n",
            "32/32 [==============================] - 0s 11ms/step - loss: 0.0157 - mae: 0.0984 - val_loss: 0.0199 - val_mae: 0.1158\n",
            "Epoch 39/50\n",
            "32/32 [==============================] - 0s 5ms/step - loss: 0.0230 - mae: 0.1186 - val_loss: 0.0420 - val_mae: 0.1719\n",
            "Epoch 40/50\n",
            "32/32 [==============================] - 0s 6ms/step - loss: 0.0149 - mae: 0.0940 - val_loss: 0.0189 - val_mae: 0.1094\n",
            "Epoch 41/50\n",
            "32/32 [==============================] - 0s 8ms/step - loss: 0.0161 - mae: 0.0956 - val_loss: 0.0212 - val_mae: 0.1157\n",
            "Epoch 42/50\n",
            "32/32 [==============================] - 0s 9ms/step - loss: 0.0132 - mae: 0.0907 - val_loss: 0.0224 - val_mae: 0.1224\n",
            "Epoch 43/50\n",
            "32/32 [==============================] - 0s 6ms/step - loss: 0.0135 - mae: 0.0909 - val_loss: 0.0184 - val_mae: 0.1044\n",
            "Epoch 44/50\n",
            "32/32 [==============================] - 0s 4ms/step - loss: 0.0154 - mae: 0.0942 - val_loss: 0.0321 - val_mae: 0.1443\n",
            "Epoch 45/50\n",
            "32/32 [==============================] - 0s 3ms/step - loss: 0.0219 - mae: 0.1117 - val_loss: 0.0197 - val_mae: 0.1138\n",
            "Epoch 46/50\n",
            "32/32 [==============================] - 0s 3ms/step - loss: 0.0179 - mae: 0.1039 - val_loss: 0.0248 - val_mae: 0.1211\n",
            "Epoch 47/50\n",
            "32/32 [==============================] - 0s 4ms/step - loss: 0.0166 - mae: 0.0991 - val_loss: 0.0204 - val_mae: 0.1156\n",
            "Epoch 48/50\n",
            "32/32 [==============================] - 0s 4ms/step - loss: 0.0197 - mae: 0.1058 - val_loss: 0.0386 - val_mae: 0.1636\n",
            "Epoch 49/50\n",
            "32/32 [==============================] - 0s 4ms/step - loss: 0.0172 - mae: 0.1022 - val_loss: 0.0232 - val_mae: 0.1223\n",
            "Epoch 50/50\n",
            "32/32 [==============================] - 0s 4ms/step - loss: 0.0163 - mae: 0.0977 - val_loss: 0.0167 - val_mae: 0.1026\n"
          ]
        },
        {
          "output_type": "execute_result",
          "data": {
            "text/plain": [
              "<keras.src.callbacks.History at 0x7a3bd1c7a620>"
            ]
          },
          "metadata": {},
          "execution_count": 15
        }
      ]
    },
    {
      "cell_type": "code",
      "source": [
        "y_pred = model.predict(X_test)"
      ],
      "metadata": {
        "colab": {
          "base_uri": "https://localhost:8080/"
        },
        "id": "JJrxb2_GSiPQ",
        "outputId": "07ea0475-067e-4a0e-dd63-1119c5e5a59e"
      },
      "execution_count": 16,
      "outputs": [
        {
          "output_type": "stream",
          "name": "stdout",
          "text": [
            "4/4 [==============================] - 0s 3ms/step\n"
          ]
        }
      ]
    },
    {
      "cell_type": "code",
      "source": [
        "from sklearn.metrics import mean_squared_error, r2_score, mean_absolute_error\n",
        "meanerror = mean_squared_error(y_test, y_pred)\n",
        "print(meanerror)\n",
        "meanabs = mean_absolute_error(y_test, y_pred)\n",
        "print(meanabs)"
      ],
      "metadata": {
        "colab": {
          "base_uri": "https://localhost:8080/"
        },
        "id": "fjWA-CScTQwX",
        "outputId": "c22be53b-a76b-4e62-954b-d035d4d67143"
      },
      "execution_count": 17,
      "outputs": [
        {
          "output_type": "stream",
          "name": "stdout",
          "text": [
            "0.026344325730656818\n",
            "0.12867440299202543\n"
          ]
        }
      ]
    },
    {
      "cell_type": "code",
      "source": [],
      "metadata": {
        "id": "cqM5IT_DTkRu"
      },
      "execution_count": 17,
      "outputs": []
    }
  ]
}